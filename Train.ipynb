{
 "cells": [
  {
   "attachments": {},
   "cell_type": "markdown",
   "metadata": {},
   "source": [
    "## Importing Libraries\n",
    "\n",
    "- **pandas**: For data manipulation and analysis\n",
    "- **sklearn.cluster**: For clustering algorithms\n",
    "- **sklearn.model_selection**: For splitting the dataset into training and testing sets\n",
    "- **sklearn.ensemble**: For building ensemble models\n",
    "- **scipy.cluster.hierarchy**: For hierarchical clustering algorithms\n",
    "- **matplotlib.pyplot**: For data visualization\n",
    "- **seaborn**: For creating attractive and informative statistical graphics\n",
    "- **random**: For generating random numbers\n",
    "- **numpy**: For numerical computing\n"
   ]
  },
  {
   "cell_type": "code",
   "execution_count": 2,
   "metadata": {},
   "outputs": [],
   "source": [
    "import pandas as pd\n",
    "from sklearn.cluster import AgglomerativeClustering\n",
    "from sklearn.model_selection import train_test_split\n",
    "from sklearn.ensemble import GradientBoostingRegressor\n",
    "from scipy.spatial.distance import cdist\n",
    "import random as rd\n",
    "import numpy as np\n",
    "import math\n",
    "import matplotlib.pyplot as plt\n",
    "import seaborn as sns\n",
    "from scipy.cluster.hierarchy import linkage, fcluster\n",
    "from scipy.cluster.hierarchy import dendrogram, linkage\n",
    "from sklearn.cluster import AgglomerativeClustering\n",
    "import os\n"
   ]
  },
  {
   "attachments": {},
   "cell_type": "markdown",
   "metadata": {},
   "source": [
    "## Reading in the input data\n"
   ]
  },
  {
   "cell_type": "code",
   "execution_count": 3,
   "metadata": {},
   "outputs": [],
   "source": [
    "# Load the data\n",
    "try:\n",
    "    data = pd.read_csv(\"dataset.csv\")\n",
    "except FileNotFoundError:\n",
    "    print(\"Could not find the input file. Please check the file path and try again.\")\n",
    "    exit()"
   ]
  },
  {
   "attachments": {},
   "cell_type": "markdown",
   "metadata": {},
   "source": [
    "## Viewing the first few rows of the data\n"
   ]
  },
  {
   "cell_type": "code",
   "execution_count": 4,
   "metadata": {},
   "outputs": [
    {
     "data": {
      "text/html": [
       "<div>\n",
       "<style scoped>\n",
       "    .dataframe tbody tr th:only-of-type {\n",
       "        vertical-align: middle;\n",
       "    }\n",
       "\n",
       "    .dataframe tbody tr th {\n",
       "        vertical-align: top;\n",
       "    }\n",
       "\n",
       "    .dataframe thead th {\n",
       "        text-align: right;\n",
       "    }\n",
       "</style>\n",
       "<table border=\"1\" class=\"dataframe\">\n",
       "  <thead>\n",
       "    <tr style=\"text-align: right;\">\n",
       "      <th></th>\n",
       "      <th>device_name</th>\n",
       "      <th>min_consumption</th>\n",
       "      <th>max_consumption</th>\n",
       "      <th>device_age</th>\n",
       "    </tr>\n",
       "  </thead>\n",
       "  <tbody>\n",
       "    <tr>\n",
       "      <th>0</th>\n",
       "      <td>bulb</td>\n",
       "      <td>100.0</td>\n",
       "      <td>120.0</td>\n",
       "      <td>3</td>\n",
       "    </tr>\n",
       "    <tr>\n",
       "      <th>1</th>\n",
       "      <td>LED TV 42 INCH</td>\n",
       "      <td>58.0</td>\n",
       "      <td>60.0</td>\n",
       "      <td>5</td>\n",
       "    </tr>\n",
       "    <tr>\n",
       "      <th>2</th>\n",
       "      <td>3''belt sander</td>\n",
       "      <td>1000.0</td>\n",
       "      <td>1000.0</td>\n",
       "      <td>4</td>\n",
       "    </tr>\n",
       "    <tr>\n",
       "      <th>3</th>\n",
       "      <td>Air cooler</td>\n",
       "      <td>65.0</td>\n",
       "      <td>80.0</td>\n",
       "      <td>4</td>\n",
       "    </tr>\n",
       "    <tr>\n",
       "      <th>4</th>\n",
       "      <td>Air purifier</td>\n",
       "      <td>25.0</td>\n",
       "      <td>30.0</td>\n",
       "      <td>3</td>\n",
       "    </tr>\n",
       "  </tbody>\n",
       "</table>\n",
       "</div>"
      ],
      "text/plain": [
       "      device_name  min_consumption  max_consumption  device_age\n",
       "0            bulb            100.0            120.0           3\n",
       "1  LED TV 42 INCH             58.0             60.0           5\n",
       "2  3''belt sander           1000.0           1000.0           4\n",
       "3      Air cooler             65.0             80.0           4\n",
       "4    Air purifier             25.0             30.0           3"
      ]
     },
     "execution_count": 4,
     "metadata": {},
     "output_type": "execute_result"
    }
   ],
   "source": [
    "data.head()"
   ]
  },
  {
   "attachments": {},
   "cell_type": "markdown",
   "metadata": {},
   "source": [
    "## Getting values for input_power, working_hours, and output_power\n",
    "\n",
    "This code cell generates values for the `input_power`, `working_hours`, and `output_power` columns of the `data` DataFrame based on the `min_consumption` and `max_consumption` columns.\n"
   ]
  },
  {
   "cell_type": "code",
   "execution_count": 5,
   "metadata": {},
   "outputs": [
    {
     "data": {
      "text/html": [
       "<div>\n",
       "<style scoped>\n",
       "    .dataframe tbody tr th:only-of-type {\n",
       "        vertical-align: middle;\n",
       "    }\n",
       "\n",
       "    .dataframe tbody tr th {\n",
       "        vertical-align: top;\n",
       "    }\n",
       "\n",
       "    .dataframe thead th {\n",
       "        text-align: right;\n",
       "    }\n",
       "</style>\n",
       "<table border=\"1\" class=\"dataframe\">\n",
       "  <thead>\n",
       "    <tr style=\"text-align: right;\">\n",
       "      <th></th>\n",
       "      <th>device_name</th>\n",
       "      <th>min_consumption</th>\n",
       "      <th>max_consumption</th>\n",
       "      <th>device_age</th>\n",
       "      <th>input_power</th>\n",
       "      <th>working_hours</th>\n",
       "      <th>output_power</th>\n",
       "    </tr>\n",
       "  </thead>\n",
       "  <tbody>\n",
       "    <tr>\n",
       "      <th>0</th>\n",
       "      <td>bulb</td>\n",
       "      <td>100.0</td>\n",
       "      <td>120.0</td>\n",
       "      <td>3</td>\n",
       "      <td>108.213855</td>\n",
       "      <td>9</td>\n",
       "      <td>104.504584</td>\n",
       "    </tr>\n",
       "    <tr>\n",
       "      <th>1</th>\n",
       "      <td>LED TV 42 INCH</td>\n",
       "      <td>58.0</td>\n",
       "      <td>60.0</td>\n",
       "      <td>5</td>\n",
       "      <td>59.058587</td>\n",
       "      <td>13</td>\n",
       "      <td>54.013663</td>\n",
       "    </tr>\n",
       "    <tr>\n",
       "      <th>2</th>\n",
       "      <td>3''belt sander</td>\n",
       "      <td>1000.0</td>\n",
       "      <td>1000.0</td>\n",
       "      <td>4</td>\n",
       "      <td>1000.000000</td>\n",
       "      <td>15</td>\n",
       "      <td>766.505232</td>\n",
       "    </tr>\n",
       "    <tr>\n",
       "      <th>3</th>\n",
       "      <td>Air cooler</td>\n",
       "      <td>65.0</td>\n",
       "      <td>80.0</td>\n",
       "      <td>4</td>\n",
       "      <td>70.137071</td>\n",
       "      <td>5</td>\n",
       "      <td>55.169133</td>\n",
       "    </tr>\n",
       "    <tr>\n",
       "      <th>4</th>\n",
       "      <td>Air purifier</td>\n",
       "      <td>25.0</td>\n",
       "      <td>30.0</td>\n",
       "      <td>3</td>\n",
       "      <td>29.819472</td>\n",
       "      <td>19</td>\n",
       "      <td>24.031571</td>\n",
       "    </tr>\n",
       "  </tbody>\n",
       "</table>\n",
       "</div>"
      ],
      "text/plain": [
       "      device_name  min_consumption  max_consumption  device_age  input_power  \\\n",
       "0            bulb            100.0            120.0           3   108.213855   \n",
       "1  LED TV 42 INCH             58.0             60.0           5    59.058587   \n",
       "2  3''belt sander           1000.0           1000.0           4  1000.000000   \n",
       "3      Air cooler             65.0             80.0           4    70.137071   \n",
       "4    Air purifier             25.0             30.0           3    29.819472   \n",
       "\n",
       "   working_hours  output_power  \n",
       "0              9    104.504584  \n",
       "1             13     54.013663  \n",
       "2             15    766.505232  \n",
       "3              5     55.169133  \n",
       "4             19     24.031571  "
      ]
     },
     "execution_count": 5,
     "metadata": {},
     "output_type": "execute_result"
    }
   ],
   "source": [
    "min_c = data['min_consumption'].values\n",
    "max_c = data['max_consumption'].values\n",
    "random_consumption = [rd.uniform(min_c[i], max_c[i]) for i in range(len(min_c))]\n",
    "working_hours = []\n",
    "for i in range(len(min_c)):\n",
    "    random_hours = rd.randint(0,24)\n",
    "    working_hours.append(random_hours)\n",
    "data['input_power'] = random_consumption\n",
    "data['working_hours'] = working_hours\n",
    "output_power = []\n",
    "for i in range(len(min_c)):\n",
    "    output_power.append(rd.uniform(random_consumption[i] * 0.70 , random_consumption[i]))\n",
    "    output_power[i] = output_power[i]\n",
    "data['output_power'] = output_power \n",
    "data.head()"
   ]
  },
  {
   "attachments": {},
   "cell_type": "markdown",
   "metadata": {},
   "source": [
    "## Calculating efficiency metrics\n",
    "\n",
    "This code cell calculates the `Enhanced_efficiency` and `efficiency` columns of the `data` DataFrame based on the `input_power`, `output_power`, and `min_consumption` columns.\n"
   ]
  },
  {
   "cell_type": "code",
   "execution_count": 6,
   "metadata": {},
   "outputs": [
    {
     "data": {
      "text/html": [
       "<div>\n",
       "<style scoped>\n",
       "    .dataframe tbody tr th:only-of-type {\n",
       "        vertical-align: middle;\n",
       "    }\n",
       "\n",
       "    .dataframe tbody tr th {\n",
       "        vertical-align: top;\n",
       "    }\n",
       "\n",
       "    .dataframe thead th {\n",
       "        text-align: right;\n",
       "    }\n",
       "</style>\n",
       "<table border=\"1\" class=\"dataframe\">\n",
       "  <thead>\n",
       "    <tr style=\"text-align: right;\">\n",
       "      <th></th>\n",
       "      <th>device_name</th>\n",
       "      <th>min_consumption</th>\n",
       "      <th>max_consumption</th>\n",
       "      <th>device_age</th>\n",
       "      <th>input_power</th>\n",
       "      <th>working_hours</th>\n",
       "      <th>output_power</th>\n",
       "      <th>Enhanced_efficiency</th>\n",
       "      <th>efficiency</th>\n",
       "    </tr>\n",
       "  </thead>\n",
       "  <tbody>\n",
       "    <tr>\n",
       "      <th>0</th>\n",
       "      <td>bulb</td>\n",
       "      <td>100.0</td>\n",
       "      <td>120.0</td>\n",
       "      <td>3</td>\n",
       "      <td>108.213855</td>\n",
       "      <td>9</td>\n",
       "      <td>104.504584</td>\n",
       "      <td>96.572277</td>\n",
       "      <td>104.504584</td>\n",
       "    </tr>\n",
       "    <tr>\n",
       "      <th>1</th>\n",
       "      <td>LED TV 42 INCH</td>\n",
       "      <td>58.0</td>\n",
       "      <td>60.0</td>\n",
       "      <td>5</td>\n",
       "      <td>59.058587</td>\n",
       "      <td>13</td>\n",
       "      <td>54.013663</td>\n",
       "      <td>91.457763</td>\n",
       "      <td>93.127004</td>\n",
       "    </tr>\n",
       "    <tr>\n",
       "      <th>2</th>\n",
       "      <td>3''belt sander</td>\n",
       "      <td>1000.0</td>\n",
       "      <td>1000.0</td>\n",
       "      <td>4</td>\n",
       "      <td>1000.000000</td>\n",
       "      <td>15</td>\n",
       "      <td>766.505232</td>\n",
       "      <td>76.650523</td>\n",
       "      <td>76.650523</td>\n",
       "    </tr>\n",
       "    <tr>\n",
       "      <th>3</th>\n",
       "      <td>Air cooler</td>\n",
       "      <td>65.0</td>\n",
       "      <td>80.0</td>\n",
       "      <td>4</td>\n",
       "      <td>70.137071</td>\n",
       "      <td>5</td>\n",
       "      <td>55.169133</td>\n",
       "      <td>78.659021</td>\n",
       "      <td>84.875590</td>\n",
       "    </tr>\n",
       "    <tr>\n",
       "      <th>4</th>\n",
       "      <td>Air purifier</td>\n",
       "      <td>25.0</td>\n",
       "      <td>30.0</td>\n",
       "      <td>3</td>\n",
       "      <td>29.819472</td>\n",
       "      <td>19</td>\n",
       "      <td>24.031571</td>\n",
       "      <td>80.590196</td>\n",
       "      <td>96.126285</td>\n",
       "    </tr>\n",
       "  </tbody>\n",
       "</table>\n",
       "</div>"
      ],
      "text/plain": [
       "      device_name  min_consumption  max_consumption  device_age  input_power  \\\n",
       "0            bulb            100.0            120.0           3   108.213855   \n",
       "1  LED TV 42 INCH             58.0             60.0           5    59.058587   \n",
       "2  3''belt sander           1000.0           1000.0           4  1000.000000   \n",
       "3      Air cooler             65.0             80.0           4    70.137071   \n",
       "4    Air purifier             25.0             30.0           3    29.819472   \n",
       "\n",
       "   working_hours  output_power  Enhanced_efficiency  efficiency  \n",
       "0              9    104.504584            96.572277  104.504584  \n",
       "1             13     54.013663            91.457763   93.127004  \n",
       "2             15    766.505232            76.650523   76.650523  \n",
       "3              5     55.169133            78.659021   84.875590  \n",
       "4             19     24.031571            80.590196   96.126285  "
      ]
     },
     "execution_count": 6,
     "metadata": {},
     "output_type": "execute_result"
    }
   ],
   "source": [
    "Enhanced_efficiency = []\n",
    "for i in range(len(min_c)):\n",
    "    Enhanced_efficiency.append(output_power[i]/random_consumption[i]*100)\n",
    "data['Enhanced_efficiency'] = Enhanced_efficiency\n",
    "efficiency = data['output_power']/data['min_consumption']*100\n",
    "data['efficiency'] = efficiency\n",
    "data.head()\n"
   ]
  },
  {
   "attachments": {},
   "cell_type": "markdown",
   "metadata": {},
   "source": [
    "## Handling values\n"
   ]
  },
  {
   "cell_type": "code",
   "execution_count": 7,
   "metadata": {},
   "outputs": [
    {
     "data": {
      "text/html": [
       "<div>\n",
       "<style scoped>\n",
       "    .dataframe tbody tr th:only-of-type {\n",
       "        vertical-align: middle;\n",
       "    }\n",
       "\n",
       "    .dataframe tbody tr th {\n",
       "        vertical-align: top;\n",
       "    }\n",
       "\n",
       "    .dataframe thead th {\n",
       "        text-align: right;\n",
       "    }\n",
       "</style>\n",
       "<table border=\"1\" class=\"dataframe\">\n",
       "  <thead>\n",
       "    <tr style=\"text-align: right;\">\n",
       "      <th></th>\n",
       "      <th>device_name</th>\n",
       "      <th>min_consumption</th>\n",
       "      <th>max_consumption</th>\n",
       "      <th>device_age</th>\n",
       "      <th>input_power</th>\n",
       "      <th>working_hours</th>\n",
       "      <th>output_power</th>\n",
       "      <th>Enhanced_efficiency</th>\n",
       "      <th>efficiency</th>\n",
       "    </tr>\n",
       "  </thead>\n",
       "  <tbody>\n",
       "    <tr>\n",
       "      <th>0</th>\n",
       "      <td>bulb</td>\n",
       "      <td>100.0</td>\n",
       "      <td>120.0</td>\n",
       "      <td>3</td>\n",
       "      <td>108.213855</td>\n",
       "      <td>9</td>\n",
       "      <td>104.504584</td>\n",
       "      <td>96.572277</td>\n",
       "      <td>104.504584</td>\n",
       "    </tr>\n",
       "    <tr>\n",
       "      <th>1</th>\n",
       "      <td>LED TV 42 INCH</td>\n",
       "      <td>58.0</td>\n",
       "      <td>60.0</td>\n",
       "      <td>5</td>\n",
       "      <td>59.058587</td>\n",
       "      <td>13</td>\n",
       "      <td>54.013663</td>\n",
       "      <td>91.457763</td>\n",
       "      <td>93.127004</td>\n",
       "    </tr>\n",
       "    <tr>\n",
       "      <th>2</th>\n",
       "      <td>3''belt sander</td>\n",
       "      <td>1000.0</td>\n",
       "      <td>1000.0</td>\n",
       "      <td>4</td>\n",
       "      <td>1000.000000</td>\n",
       "      <td>15</td>\n",
       "      <td>766.505232</td>\n",
       "      <td>76.650523</td>\n",
       "      <td>76.650523</td>\n",
       "    </tr>\n",
       "    <tr>\n",
       "      <th>3</th>\n",
       "      <td>Air cooler</td>\n",
       "      <td>65.0</td>\n",
       "      <td>80.0</td>\n",
       "      <td>4</td>\n",
       "      <td>70.137071</td>\n",
       "      <td>5</td>\n",
       "      <td>55.169133</td>\n",
       "      <td>78.659021</td>\n",
       "      <td>84.875590</td>\n",
       "    </tr>\n",
       "    <tr>\n",
       "      <th>4</th>\n",
       "      <td>Air purifier</td>\n",
       "      <td>25.0</td>\n",
       "      <td>30.0</td>\n",
       "      <td>3</td>\n",
       "      <td>29.819472</td>\n",
       "      <td>19</td>\n",
       "      <td>24.031571</td>\n",
       "      <td>80.590196</td>\n",
       "      <td>96.126285</td>\n",
       "    </tr>\n",
       "  </tbody>\n",
       "</table>\n",
       "</div>"
      ],
      "text/plain": [
       "      device_name  min_consumption  max_consumption  device_age  input_power  \\\n",
       "0            bulb            100.0            120.0           3   108.213855   \n",
       "1  LED TV 42 INCH             58.0             60.0           5    59.058587   \n",
       "2  3''belt sander           1000.0           1000.0           4  1000.000000   \n",
       "3      Air cooler             65.0             80.0           4    70.137071   \n",
       "4    Air purifier             25.0             30.0           3    29.819472   \n",
       "\n",
       "   working_hours  output_power  Enhanced_efficiency  efficiency  \n",
       "0              9    104.504584            96.572277  104.504584  \n",
       "1             13     54.013663            91.457763   93.127004  \n",
       "2             15    766.505232            76.650523   76.650523  \n",
       "3              5     55.169133            78.659021   84.875590  \n",
       "4             19     24.031571            80.590196   96.126285  "
      ]
     },
     "execution_count": 7,
     "metadata": {},
     "output_type": "execute_result"
    }
   ],
   "source": [
    "data = data.replace([np.inf, -np.inf], np.nan)\n",
    "data = data.dropna()\n",
    "data.head()"
   ]
  },
  {
   "attachments": {},
   "cell_type": "markdown",
   "metadata": {},
   "source": [
    "## Adjusting efficiency values\n"
   ]
  },
  {
   "cell_type": "code",
   "execution_count": 8,
   "metadata": {},
   "outputs": [
    {
     "data": {
      "text/html": [
       "<div>\n",
       "<style scoped>\n",
       "    .dataframe tbody tr th:only-of-type {\n",
       "        vertical-align: middle;\n",
       "    }\n",
       "\n",
       "    .dataframe tbody tr th {\n",
       "        vertical-align: top;\n",
       "    }\n",
       "\n",
       "    .dataframe thead th {\n",
       "        text-align: right;\n",
       "    }\n",
       "</style>\n",
       "<table border=\"1\" class=\"dataframe\">\n",
       "  <thead>\n",
       "    <tr style=\"text-align: right;\">\n",
       "      <th></th>\n",
       "      <th>device_name</th>\n",
       "      <th>min_consumption</th>\n",
       "      <th>max_consumption</th>\n",
       "      <th>device_age</th>\n",
       "      <th>input_power</th>\n",
       "      <th>working_hours</th>\n",
       "      <th>output_power</th>\n",
       "      <th>Enhanced_efficiency</th>\n",
       "      <th>efficiency</th>\n",
       "    </tr>\n",
       "  </thead>\n",
       "  <tbody>\n",
       "    <tr>\n",
       "      <th>0</th>\n",
       "      <td>bulb</td>\n",
       "      <td>100.0</td>\n",
       "      <td>120.0</td>\n",
       "      <td>3</td>\n",
       "      <td>108.213855</td>\n",
       "      <td>9</td>\n",
       "      <td>104.504584</td>\n",
       "      <td>96.572277</td>\n",
       "      <td>70.000000</td>\n",
       "    </tr>\n",
       "    <tr>\n",
       "      <th>1</th>\n",
       "      <td>LED TV 42 INCH</td>\n",
       "      <td>58.0</td>\n",
       "      <td>60.0</td>\n",
       "      <td>5</td>\n",
       "      <td>59.058587</td>\n",
       "      <td>13</td>\n",
       "      <td>54.013663</td>\n",
       "      <td>91.457763</td>\n",
       "      <td>66.357372</td>\n",
       "    </tr>\n",
       "    <tr>\n",
       "      <th>2</th>\n",
       "      <td>3''belt sander</td>\n",
       "      <td>1000.0</td>\n",
       "      <td>1000.0</td>\n",
       "      <td>4</td>\n",
       "      <td>1000.000000</td>\n",
       "      <td>15</td>\n",
       "      <td>766.505232</td>\n",
       "      <td>76.650523</td>\n",
       "      <td>53.655366</td>\n",
       "    </tr>\n",
       "    <tr>\n",
       "      <th>3</th>\n",
       "      <td>Air cooler</td>\n",
       "      <td>65.0</td>\n",
       "      <td>80.0</td>\n",
       "      <td>4</td>\n",
       "      <td>70.137071</td>\n",
       "      <td>5</td>\n",
       "      <td>55.169133</td>\n",
       "      <td>78.659021</td>\n",
       "      <td>63.764511</td>\n",
       "    </tr>\n",
       "    <tr>\n",
       "      <th>4</th>\n",
       "      <td>Air purifier</td>\n",
       "      <td>25.0</td>\n",
       "      <td>30.0</td>\n",
       "      <td>3</td>\n",
       "      <td>29.819472</td>\n",
       "      <td>19</td>\n",
       "      <td>24.031571</td>\n",
       "      <td>80.590196</td>\n",
       "      <td>70.000000</td>\n",
       "    </tr>\n",
       "  </tbody>\n",
       "</table>\n",
       "</div>"
      ],
      "text/plain": [
       "      device_name  min_consumption  max_consumption  device_age  input_power  \\\n",
       "0            bulb            100.0            120.0           3   108.213855   \n",
       "1  LED TV 42 INCH             58.0             60.0           5    59.058587   \n",
       "2  3''belt sander           1000.0           1000.0           4  1000.000000   \n",
       "3      Air cooler             65.0             80.0           4    70.137071   \n",
       "4    Air purifier             25.0             30.0           3    29.819472   \n",
       "\n",
       "   working_hours  output_power  Enhanced_efficiency  efficiency  \n",
       "0              9    104.504584            96.572277   70.000000  \n",
       "1             13     54.013663            91.457763   66.357372  \n",
       "2             15    766.505232            76.650523   53.655366  \n",
       "3              5     55.169133            78.659021   63.764511  \n",
       "4             19     24.031571            80.590196   70.000000  "
      ]
     },
     "execution_count": 8,
     "metadata": {},
     "output_type": "execute_result"
    }
   ],
   "source": [
    "List_efficiency = data['efficiency'].values\n",
    "List_enhan_efficiency = data['Enhanced_efficiency'].values\n",
    "\n",
    "for i in range(len(List_efficiency)):\n",
    "    # if enhance efficiency is greater than enhance efficiency then minus abs value for efficiency\n",
    "    if List_enhan_efficiency[i] > List_efficiency[i]:\n",
    "        List_efficiency[i] = List_efficiency[i] - abs(List_enhan_efficiency[i] - List_efficiency[i])\n",
    "    # if enhance efficiency is less than enhance efficiency then plus abs value for efficiency\n",
    "    elif List_enhan_efficiency[i] < List_efficiency[i]:\n",
    "        List_efficiency[i] = List_efficiency[i] + abs(List_enhan_efficiency[i] - List_efficiency[i])\n",
    "    # if enhance efficiency is equal to enhance efficiency then plus abs value for efficiency\n",
    "    else:\n",
    "        List_efficiency[i] = List_efficiency[i] + abs(List_enhan_efficiency[i] - List_efficiency[i])\n",
    "data['efficiency'] = List_efficiency\n",
    "#efficiency must between 40  to 70 but with formula that multiply with values that make it between 40 to 70\n",
    "data['efficiency'] = data['efficiency'].apply(lambda x: x * 0.3 if x < 40 else x)\n",
    "data['efficiency'] = data['efficiency'].apply(lambda x: x * 0.7 if x > 70 else x)\n",
    "data['efficiency'] = data['efficiency'].apply(lambda x: 40 if x < 40 else x)\n",
    "data['efficiency'] = data['efficiency'].apply(lambda x: 70 if x > 70 else x)\n",
    "\n",
    "data['Enhanced_efficiency'] = data['Enhanced_efficiency'].apply(lambda x: 200 if x > 200 else x)\n",
    "data['Enhanced_efficiency'] = data['Enhanced_efficiency'].apply(lambda x: 0 if x < 0 else x)\n",
    "data.head()\n"
   ]
  },
  {
   "attachments": {},
   "cell_type": "markdown",
   "metadata": {},
   "source": [
    "## Training a GradientBoostingRegressor model\n"
   ]
  },
  {
   "cell_type": "code",
   "execution_count": 9,
   "metadata": {},
   "outputs": [
    {
     "data": {
      "text/plain": [
       "0.42891189736322477"
      ]
     },
     "execution_count": 9,
     "metadata": {},
     "output_type": "execute_result"
    }
   ],
   "source": [
    "X = data[['min_consumption', 'max_consumption', 'input_power']]\n",
    "y = data['efficiency']\n",
    "X_train, X_test, y_train, y_test = train_test_split(X, y, test_size=0.2, random_state=0)\n",
    "Normal = GradientBoostingRegressor(random_state=0)\n",
    "Normal.fit(X_train, y_train)\n",
    "Normal.score(X_test, y_test)\n"
   ]
  },
  {
   "cell_type": "code",
   "execution_count": 10,
   "metadata": {},
   "outputs": [],
   "source": [
    "#feature to predict enhanced efficiency with K-centroid\n",
    "X = data[['min_consumption', 'max_consumption', 'input_power']]\n",
    "y = data['Enhanced_efficiency']\n"
   ]
  },
  {
   "attachments": {},
   "cell_type": "markdown",
   "metadata": {},
   "source": [
    "## Hariarchical clustering\n"
   ]
  },
  {
   "cell_type": "code",
   "execution_count": 11,
   "metadata": {},
   "outputs": [
    {
     "name": "stdout",
     "output_type": "stream",
     "text": [
      "[1 2 2 2 2 2 2 1 2 2 2 2 1 1 2 2 2 2 2 1 2 1 2 1 2 2 2 2 2 2 2 2 2 2 1 2 2\n",
      " 0 2 2 2 2 1 1 2 2 2 1 1 2 2 2 1 2 2 2 2 2 2 2 2 2 2 1 1 2 1 2 2 2 1 2 1 2\n",
      " 2 1 0 1 2 1 1 2 2 2 2 2 2 0 2 1 1 2 2 2 0 0 1 1 2 2 1 2 2 2 2 2 1 2 2 1 2\n",
      " 1 2 2 2 2 2 2 1 1 2 2 2 2 2 1 2 0 1 2 2 2 2 1 2 2 2 1 2 1 2 1 2 1 2 2 1 1\n",
      " 2 2 2 2 2 2 2 1 1 2 2 2 2 2 2 1 1 1 0 2 2 0 1 2 2 2 2 1 2 1 2 0 1 2 2 1 2\n",
      " 2 2 2 2 1 2 2 2 2 1 1 1 1 1 2 1 2 2 2 1 0 2 2 2 0 2 1 1 2 2 2 2 1 2 2 2 1\n",
      " 1 2 2 2 2 0 2 2 0 1 2 2 2 2 2 2 2]\n"
     ]
    },
    {
     "name": "stderr",
     "output_type": "stream",
     "text": [
      "/home/xer0bit/.local/lib/python3.10/site-packages/sklearn/cluster/_agglomerative.py:983: FutureWarning: Attribute `affinity` was deprecated in version 1.2 and will be removed in 1.4. Use `metric` instead\n",
      "  warnings.warn(\n"
     ]
    }
   ],
   "source": [
    "hc = AgglomerativeClustering(n_clusters=3, affinity='euclidean', linkage='ward')\n",
    "y_hc = hc.fit_predict(X_train)\n",
    "print(y_hc)\n"
   ]
  },
  {
   "cell_type": "code",
   "execution_count": 12,
   "metadata": {},
   "outputs": [],
   "source": [
    "def find_centroid(cluster):\n",
    "    \"\"\"\n",
    "    Calculates the centroid of a cluster.\n",
    "\n",
    "    Args:\n",
    "    \n",
    "        cluster: A list of data points.\n",
    "\n",
    "    Returns:\n",
    "        The centroid of the cluster.\n",
    "    \"\"\"\n",
    "    # get |c|\n",
    "    centroid = sum(cluster) / len(cluster)\n",
    "    return centroid"
   ]
  },
  {
   "attachments": {},
   "cell_type": "markdown",
   "metadata": {},
   "source": [
    "## k-centroid hierarchical clustering\n"
   ]
  },
  {
   "cell_type": "code",
   "execution_count": 13,
   "metadata": {},
   "outputs": [],
   "source": [
    "def hierarchical_clustering(dataset, k):\n",
    "    \"\"\"\n",
    "    Performs hierarchical clustering on the given dataset using k-centroid link.\n",
    "\n",
    "    Args:\n",
    "        dataset: A list of data points.\n",
    "        k: The number of neighbors of a centroid.\n",
    "\n",
    "    Returns:\n",
    "        A list of clusters.\n",
    "    \"\"\"\n",
    "    # Initialize the clusters.\n",
    "    clusters = [[x] for x in dataset]\n",
    "    \n",
    "    # Iterate over all pairs of clusters.\n",
    "    for _ in range(len(dataset) - 1):\n",
    "        min_distance = float('inf')\n",
    "        merge_clusters = ()\n",
    "        \n",
    "        for i in range(len(clusters)):\n",
    "            for j in range(i + 1, len(clusters)):\n",
    "                # Calculate the distance between the two clusters.\n",
    "                dist_1 = []\n",
    "                dist_2 = []\n",
    "                \n",
    "                # Find centroids for clusters Ci and Cj.\n",
    "                centroid_i = find_centroid(clusters[i])\n",
    "                centroid_j = find_centroid(clusters[j])\n",
    "                \n",
    "                # Calculate distances from objects in Ci to centroid_i.\n",
    "                for obj in clusters[i]:\n",
    "                    dist_1.append(np.linalg.norm(obj - centroid_i))\n",
    "                \n",
    "                # Calculate distances from objects in Cj to centroid_j.\n",
    "                for obj in clusters[j]:\n",
    "                    dist_2.append(np.linalg.norm(obj - centroid_j))\n",
    "                \n",
    "                # Select the k nearest neighbors from each cluster.\n",
    "                dist_1 = sorted(dist_1)[:k]\n",
    "                dist_2 = sorted(dist_2)[:k]\n",
    "                \n",
    "                neighbors = []\n",
    "                for obj1 in dist_1:\n",
    "                    for obj2 in dist_2:\n",
    "                        #obj1 and obj2 are the distances from Ci to Cj and Cj to Ci respectively calculated above.\n",
    "                        neighbors.append(obj1 + obj2)\n",
    "\n",
    "\n",
    "                # Calculate the average  = total distance / min(k, len(Ci) * len(Cj)).\n",
    "                average_distance = sum(neighbors) / min(k, len(clusters[i]) * len(clusters[j]))\n",
    "                if average_distance < min_distance:\n",
    "                    min_distance = average_distance\n",
    "                    # Store the closest pair of clusters.\n",
    "                    merge_clusters = (i, j)\n",
    "        \n",
    "        # Merge the two closest clusters.\n",
    "        merged_cluster = clusters[merge_clusters[0]] + clusters[merge_clusters[1]]\n",
    "        clusters = [c for idx, c in enumerate(clusters) if idx not in merge_clusters]\n",
    "        clusters.append(merged_cluster)\n",
    "    \n",
    "    # Return the list of clusters.\n",
    "    return clusters"
   ]
  },
  {
   "cell_type": "code",
   "execution_count": 14,
   "metadata": {},
   "outputs": [],
   "source": [
    "# Perform clustering on the training data\n",
    "clusters = hierarchical_clustering(X.values, 3)\n"
   ]
  },
  {
   "cell_type": "code",
   "execution_count": 17,
   "metadata": {},
   "outputs": [],
   "source": [
    "x_clusters = clusters[0]"
   ]
  },
  {
   "cell_type": "code",
   "execution_count": 18,
   "metadata": {},
   "outputs": [
    {
     "name": "stderr",
     "output_type": "stream",
     "text": [
      "/tmp/ipykernel_15185/2965619163.py:3: PerformanceWarning: DataFrame is highly fragmented.  This is usually the result of calling `frame.insert` many times, which has poor performance.  Consider joining all columns at once using pd.concat(axis=1) instead.  To get a de-fragmented frame, use `newframe = frame.copy()`\n",
      "  df[i] = value\n"
     ]
    },
    {
     "data": {
      "text/html": [
       "<div>\n",
       "<style scoped>\n",
       "    .dataframe tbody tr th:only-of-type {\n",
       "        vertical-align: middle;\n",
       "    }\n",
       "\n",
       "    .dataframe tbody tr th {\n",
       "        vertical-align: top;\n",
       "    }\n",
       "\n",
       "    .dataframe thead th {\n",
       "        text-align: right;\n",
       "    }\n",
       "</style>\n",
       "<table border=\"1\" class=\"dataframe\">\n",
       "  <thead>\n",
       "    <tr style=\"text-align: right;\">\n",
       "      <th></th>\n",
       "      <th>min_consumption</th>\n",
       "      <th>max_consumption</th>\n",
       "      <th>input_power</th>\n",
       "    </tr>\n",
       "  </thead>\n",
       "  <tbody>\n",
       "    <tr>\n",
       "      <th>0</th>\n",
       "      <td>8000.0</td>\n",
       "      <td>14000.0</td>\n",
       "      <td>12761.399787</td>\n",
       "    </tr>\n",
       "    <tr>\n",
       "      <th>1</th>\n",
       "      <td>2000.0</td>\n",
       "      <td>3000.0</td>\n",
       "      <td>2890.552358</td>\n",
       "    </tr>\n",
       "    <tr>\n",
       "      <th>2</th>\n",
       "      <td>7500.0</td>\n",
       "      <td>10500.0</td>\n",
       "      <td>8719.277091</td>\n",
       "    </tr>\n",
       "    <tr>\n",
       "      <th>3</th>\n",
       "      <td>220.0</td>\n",
       "      <td>270.0</td>\n",
       "      <td>265.610665</td>\n",
       "    </tr>\n",
       "    <tr>\n",
       "      <th>4</th>\n",
       "      <td>6600.0</td>\n",
       "      <td>8800.0</td>\n",
       "      <td>8254.169433</td>\n",
       "    </tr>\n",
       "  </tbody>\n",
       "</table>\n",
       "</div>"
      ],
      "text/plain": [
       "   min_consumption  max_consumption   input_power\n",
       "0           8000.0          14000.0  12761.399787\n",
       "1           2000.0           3000.0   2890.552358\n",
       "2           7500.0          10500.0   8719.277091\n",
       "3            220.0            270.0    265.610665\n",
       "4           6600.0           8800.0   8254.169433"
      ]
     },
     "execution_count": 18,
     "metadata": {},
     "output_type": "execute_result"
    }
   ],
   "source": [
    "df = pd.DataFrame()\n",
    "for i, value in enumerate(x_clusters):\n",
    "    df[i] = value\n",
    "df = df.T\n",
    "df.columns = ['min_consumption', 'max_consumption', 'input_power']\n",
    "df.head()"
   ]
  },
  {
   "cell_type": "code",
   "execution_count": 19,
   "metadata": {},
   "outputs": [
    {
     "data": {
      "text/html": [
       "<div>\n",
       "<style scoped>\n",
       "    .dataframe tbody tr th:only-of-type {\n",
       "        vertical-align: middle;\n",
       "    }\n",
       "\n",
       "    .dataframe tbody tr th {\n",
       "        vertical-align: top;\n",
       "    }\n",
       "\n",
       "    .dataframe thead th {\n",
       "        text-align: right;\n",
       "    }\n",
       "</style>\n",
       "<table border=\"1\" class=\"dataframe\">\n",
       "  <thead>\n",
       "    <tr style=\"text-align: right;\">\n",
       "      <th></th>\n",
       "      <th>min_consumption</th>\n",
       "      <th>max_consumption</th>\n",
       "      <th>input_power</th>\n",
       "      <th>Enhanced_efficiency</th>\n",
       "    </tr>\n",
       "  </thead>\n",
       "  <tbody>\n",
       "    <tr>\n",
       "      <th>0</th>\n",
       "      <td>8000.0</td>\n",
       "      <td>14000.0</td>\n",
       "      <td>12761.399787</td>\n",
       "      <td>96.572277</td>\n",
       "    </tr>\n",
       "    <tr>\n",
       "      <th>1</th>\n",
       "      <td>2000.0</td>\n",
       "      <td>3000.0</td>\n",
       "      <td>2890.552358</td>\n",
       "      <td>91.457763</td>\n",
       "    </tr>\n",
       "    <tr>\n",
       "      <th>2</th>\n",
       "      <td>7500.0</td>\n",
       "      <td>10500.0</td>\n",
       "      <td>8719.277091</td>\n",
       "      <td>76.650523</td>\n",
       "    </tr>\n",
       "    <tr>\n",
       "      <th>3</th>\n",
       "      <td>220.0</td>\n",
       "      <td>270.0</td>\n",
       "      <td>265.610665</td>\n",
       "      <td>78.659021</td>\n",
       "    </tr>\n",
       "    <tr>\n",
       "      <th>4</th>\n",
       "      <td>6600.0</td>\n",
       "      <td>8800.0</td>\n",
       "      <td>8254.169433</td>\n",
       "      <td>80.590196</td>\n",
       "    </tr>\n",
       "  </tbody>\n",
       "</table>\n",
       "</div>"
      ],
      "text/plain": [
       "   min_consumption  max_consumption   input_power  Enhanced_efficiency\n",
       "0           8000.0          14000.0  12761.399787            96.572277\n",
       "1           2000.0           3000.0   2890.552358            91.457763\n",
       "2           7500.0          10500.0   8719.277091            76.650523\n",
       "3            220.0            270.0    265.610665            78.659021\n",
       "4           6600.0           8800.0   8254.169433            80.590196"
      ]
     },
     "execution_count": 19,
     "metadata": {},
     "output_type": "execute_result"
    }
   ],
   "source": [
    "df['Enhanced_efficiency'] = y.values\n",
    "df.head()"
   ]
  },
  {
   "cell_type": "code",
   "execution_count": 20,
   "metadata": {},
   "outputs": [
    {
     "data": {
      "image/png": "[encoded data removed]",
      "text/plain": [
       "<Figure size 720x720 with 2 Axes>"
      ]
     },
     "metadata": {
      "needs_background": "light"
     },
     "output_type": "display_data"
    }
   ],
   "source": [
    "#plot the df with enhanced efficiency\n",
    "fig = plt.figure(figsize=(10, 10))\n",
    "ax = fig.add_subplot(111, projection='3d')\n",
    "x = df['min_consumption']\n",
    "y = df['max_consumption']\n",
    "z = df['input_power']\n",
    "c = df['Enhanced_efficiency']\n",
    "img = ax.scatter(x, y, z, c=c, cmap=plt.hot())\n",
    "fig.colorbar(img)\n",
    "ax.set_xlabel('min_consumption')\n",
    "ax.set_ylabel('max_consumption')\n",
    "plt.show()\n"
   ]
  },
  {
   "cell_type": "code",
   "execution_count": 21,
   "metadata": {},
   "outputs": [
    {
     "data": {
      "image/png": "[encoded data removed]",
      "text/plain": [
       "<Figure size 1800x720 with 1 Axes>"
      ]
     },
     "metadata": {
      "needs_background": "light"
     },
     "output_type": "display_data"
    }
   ],
   "source": [
    "Z = linkage(X_train, 'ward')\n",
    "fig = plt.figure(figsize=(25, 10))\n",
    "dn = dendrogram(Z)\n",
    "plt.show()"
   ]
  },
  {
   "attachments": {},
   "cell_type": "markdown",
   "metadata": {},
   "source": [
    "## Gradient Boosting Regressor Model with Enhanced Efficiency\n"
   ]
  },
  {
   "cell_type": "code",
   "execution_count": 22,
   "metadata": {},
   "outputs": [
    {
     "data": {
      "text/plain": [
       "-0.20766791613718993"
      ]
     },
     "execution_count": 22,
     "metadata": {},
     "output_type": "execute_result"
    }
   ],
   "source": [
    "enhanced_features = df[['min_consumption', 'max_consumption', 'input_power']]\n",
    "enhanced_efficiency = df['Enhanced_efficiency']\n",
    "X_train, X_test, y_train, y_test = train_test_split(enhanced_features, enhanced_efficiency, test_size=0.2, random_state=0)\n",
    "Enhanced = GradientBoostingRegressor(random_state=0)\n",
    "Enhanced.fit(X_train, y_train)\n",
    "Enhanced.score(X_test, y_test)\n"
   ]
  },
  {
   "attachments": {},
   "cell_type": "markdown",
   "metadata": {},
   "source": [
    "## Test input\n"
   ]
  },
  {
   "cell_type": "code",
   "execution_count": 23,
   "metadata": {},
   "outputs": [
    {
     "name": "stdout",
     "output_type": "stream",
     "text": [
      "Normal efficiency:  [64.67695853]\n",
      "Enhanced efficiency:  [79.53972444]\n"
     ]
    },
    {
     "name": "stderr",
     "output_type": "stream",
     "text": [
      "/home/xer0bit/.local/lib/python3.10/site-packages/sklearn/base.py:439: UserWarning: X does not have valid feature names, but GradientBoostingRegressor was fitted with feature names\n",
      "  warnings.warn(\n",
      "/home/xer0bit/.local/lib/python3.10/site-packages/sklearn/base.py:439: UserWarning: X does not have valid feature names, but GradientBoostingRegressor was fitted with feature names\n",
      "  warnings.warn(\n"
     ]
    }
   ],
   "source": [
    "test_input = [[300, 600, 400]]\n",
    "test_output = Normal.predict(test_input)\n",
    "print(\"Normal efficiency: \", test_output)\n",
    "test_output = Enhanced.predict(test_input)\n",
    "print(\"Enhanced efficiency: \", test_output)\n"
   ]
  },
  {
   "attachments": {},
   "cell_type": "markdown",
   "metadata": {},
   "source": [
    "## Saving models\n"
   ]
  },
  {
   "cell_type": "code",
   "execution_count": 24,
   "metadata": {},
   "outputs": [
    {
     "name": "stdout",
     "output_type": "stream",
     "text": [
      "Model saved successfully\n"
     ]
    }
   ],
   "source": [
    "import pickle\n",
    "try:\n",
    "    os.mkdir('pretrained_model')\n",
    "except:\n",
    "    pass\n",
    "pickle.dump(Normal, open('pretrained_model/Normal.pkl', 'wb'))\n",
    "pickle.dump(Enhanced, open('pretrained_model/K_centroid.pkl', 'wb'))\n",
    "print(\"Model saved successfully\")"
   ]
  }
 ],
 "metadata": {
  "kernelspec": {
   "display_name": "Python 3",
   "language": "python",
   "name": "python3"
  },
  "language_info": {
   "codemirror_mode": {
    "name": "ipython",
    "version": 3
   },
   "file_extension": ".py",
   "mimetype": "text/x-python",
   "name": "python",
   "nbconvert_exporter": "python",
   "pygments_lexer": "ipython3",
   "version": "3.10.6"
  },
  "orig_nbformat": 4
 },
 "nbformat": 4,
 "nbformat_minor": 2
}
