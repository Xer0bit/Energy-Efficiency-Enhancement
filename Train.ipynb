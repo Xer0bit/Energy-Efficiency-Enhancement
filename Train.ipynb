{
 "cells": [
  {
   "attachments": {},
   "cell_type": "markdown",
   "metadata": {},
   "source": [
    "## Importing Libraries\n",
    "\n",
    "- **pandas**: For data manipulation and analysis\n",
    "- **sklearn.cluster**: For clustering algorithms\n",
    "- **sklearn.model_selection**: For splitting the dataset into training and testing sets\n",
    "- **sklearn.ensemble**: For building ensemble models\n",
    "- **scipy.cluster.hierarchy**: For hierarchical clustering algorithms\n",
    "- **matplotlib.pyplot**: For data visualization\n",
    "- **seaborn**: For creating attractive and informative statistical graphics\n",
    "- **random**: For generating random numbers\n",
    "- **numpy**: For numerical computing\n"
   ]
  },
  {
   "cell_type": "code",
   "execution_count": 25,
   "metadata": {},
   "outputs": [],
   "source": [
    "import pandas as pd\n",
    "from sklearn.cluster import AgglomerativeClustering\n",
    "from sklearn.model_selection import train_test_split\n",
    "from sklearn.ensemble import GradientBoostingRegressor\n",
    "from scipy.spatial.distance import cdist\n",
    "import random as rd\n",
    "import numpy as np\n",
    "import math\n",
    "import matplotlib.pyplot as plt\n",
    "import seaborn as sns\n",
    "from scipy.cluster.hierarchy import linkage, fcluster\n",
    "from scipy.cluster.hierarchy import dendrogram, linkage\n",
    "from sklearn.cluster import AgglomerativeClustering\n",
    "import os\n"
   ]
  },
  {
   "attachments": {},
   "cell_type": "markdown",
   "metadata": {},
   "source": [
    "## Reading in the input data\n"
   ]
  },
  {
   "cell_type": "code",
   "execution_count": 26,
   "metadata": {},
   "outputs": [],
   "source": [
    "# Load the data\n",
    "try:\n",
    "    data = pd.read_csv(\"dataset.csv\")\n",
    "except FileNotFoundError:\n",
    "    print(\"Could not find the input file. Please check the file path and try again.\")\n",
    "    exit()"
   ]
  },
  {
   "attachments": {},
   "cell_type": "markdown",
   "metadata": {},
   "source": [
    "## Viewing the first few rows of the data\n"
   ]
  },
  {
   "cell_type": "code",
   "execution_count": 27,
   "metadata": {},
   "outputs": [
    {
     "data": {
      "text/html": [
       "<div>\n",
       "<style scoped>\n",
       "    .dataframe tbody tr th:only-of-type {\n",
       "        vertical-align: middle;\n",
       "    }\n",
       "\n",
       "    .dataframe tbody tr th {\n",
       "        vertical-align: top;\n",
       "    }\n",
       "\n",
       "    .dataframe thead th {\n",
       "        text-align: right;\n",
       "    }\n",
       "</style>\n",
       "<table border=\"1\" class=\"dataframe\">\n",
       "  <thead>\n",
       "    <tr style=\"text-align: right;\">\n",
       "      <th></th>\n",
       "      <th>device_name</th>\n",
       "      <th>min_consumption</th>\n",
       "      <th>max_consumption</th>\n",
       "      <th>device_age</th>\n",
       "    </tr>\n",
       "  </thead>\n",
       "  <tbody>\n",
       "    <tr>\n",
       "      <th>0</th>\n",
       "      <td>bulb</td>\n",
       "      <td>100.0</td>\n",
       "      <td>120.0</td>\n",
       "      <td>3</td>\n",
       "    </tr>\n",
       "    <tr>\n",
       "      <th>1</th>\n",
       "      <td>LED TV 42 INCH</td>\n",
       "      <td>58.0</td>\n",
       "      <td>60.0</td>\n",
       "      <td>5</td>\n",
       "    </tr>\n",
       "    <tr>\n",
       "      <th>2</th>\n",
       "      <td>3''belt sander</td>\n",
       "      <td>1000.0</td>\n",
       "      <td>1000.0</td>\n",
       "      <td>4</td>\n",
       "    </tr>\n",
       "    <tr>\n",
       "      <th>3</th>\n",
       "      <td>Air cooler</td>\n",
       "      <td>65.0</td>\n",
       "      <td>80.0</td>\n",
       "      <td>4</td>\n",
       "    </tr>\n",
       "    <tr>\n",
       "      <th>4</th>\n",
       "      <td>Air purifier</td>\n",
       "      <td>25.0</td>\n",
       "      <td>30.0</td>\n",
       "      <td>3</td>\n",
       "    </tr>\n",
       "  </tbody>\n",
       "</table>\n",
       "</div>"
      ],
      "text/plain": [
       "      device_name  min_consumption  max_consumption  device_age\n",
       "0            bulb            100.0            120.0           3\n",
       "1  LED TV 42 INCH             58.0             60.0           5\n",
       "2  3''belt sander           1000.0           1000.0           4\n",
       "3      Air cooler             65.0             80.0           4\n",
       "4    Air purifier             25.0             30.0           3"
      ]
     },
     "execution_count": 27,
     "metadata": {},
     "output_type": "execute_result"
    }
   ],
   "source": [
    "data.head()"
   ]
  },
  {
   "attachments": {},
   "cell_type": "markdown",
   "metadata": {},
   "source": [
    "## Getting values for input_power, working_hours, and output_power\n",
    "\n",
    "This code cell generates values for the `input_power`, `working_hours`, and `output_power` columns of the `data` DataFrame based on the `min_consumption` and `max_consumption` columns.\n"
   ]
  },
  {
   "cell_type": "code",
   "execution_count": 28,
   "metadata": {},
   "outputs": [
    {
     "data": {
      "text/html": [
       "<div>\n",
       "<style scoped>\n",
       "    .dataframe tbody tr th:only-of-type {\n",
       "        vertical-align: middle;\n",
       "    }\n",
       "\n",
       "    .dataframe tbody tr th {\n",
       "        vertical-align: top;\n",
       "    }\n",
       "\n",
       "    .dataframe thead th {\n",
       "        text-align: right;\n",
       "    }\n",
       "</style>\n",
       "<table border=\"1\" class=\"dataframe\">\n",
       "  <thead>\n",
       "    <tr style=\"text-align: right;\">\n",
       "      <th></th>\n",
       "      <th>device_name</th>\n",
       "      <th>min_consumption</th>\n",
       "      <th>max_consumption</th>\n",
       "      <th>device_age</th>\n",
       "      <th>input_power</th>\n",
       "      <th>working_hours</th>\n",
       "      <th>output_power</th>\n",
       "    </tr>\n",
       "  </thead>\n",
       "  <tbody>\n",
       "    <tr>\n",
       "      <th>0</th>\n",
       "      <td>bulb</td>\n",
       "      <td>100.0</td>\n",
       "      <td>120.0</td>\n",
       "      <td>3</td>\n",
       "      <td>102.902206</td>\n",
       "      <td>23</td>\n",
       "      <td>100.802787</td>\n",
       "    </tr>\n",
       "    <tr>\n",
       "      <th>1</th>\n",
       "      <td>LED TV 42 INCH</td>\n",
       "      <td>58.0</td>\n",
       "      <td>60.0</td>\n",
       "      <td>5</td>\n",
       "      <td>58.572390</td>\n",
       "      <td>15</td>\n",
       "      <td>51.637678</td>\n",
       "    </tr>\n",
       "    <tr>\n",
       "      <th>2</th>\n",
       "      <td>3''belt sander</td>\n",
       "      <td>1000.0</td>\n",
       "      <td>1000.0</td>\n",
       "      <td>4</td>\n",
       "      <td>1000.000000</td>\n",
       "      <td>0</td>\n",
       "      <td>835.663001</td>\n",
       "    </tr>\n",
       "    <tr>\n",
       "      <th>3</th>\n",
       "      <td>Air cooler</td>\n",
       "      <td>65.0</td>\n",
       "      <td>80.0</td>\n",
       "      <td>4</td>\n",
       "      <td>66.369406</td>\n",
       "      <td>14</td>\n",
       "      <td>52.290460</td>\n",
       "    </tr>\n",
       "    <tr>\n",
       "      <th>4</th>\n",
       "      <td>Air purifier</td>\n",
       "      <td>25.0</td>\n",
       "      <td>30.0</td>\n",
       "      <td>3</td>\n",
       "      <td>27.811067</td>\n",
       "      <td>9</td>\n",
       "      <td>26.907806</td>\n",
       "    </tr>\n",
       "  </tbody>\n",
       "</table>\n",
       "</div>"
      ],
      "text/plain": [
       "      device_name  min_consumption  max_consumption  device_age  input_power  \\\n",
       "0            bulb            100.0            120.0           3   102.902206   \n",
       "1  LED TV 42 INCH             58.0             60.0           5    58.572390   \n",
       "2  3''belt sander           1000.0           1000.0           4  1000.000000   \n",
       "3      Air cooler             65.0             80.0           4    66.369406   \n",
       "4    Air purifier             25.0             30.0           3    27.811067   \n",
       "\n",
       "   working_hours  output_power  \n",
       "0             23    100.802787  \n",
       "1             15     51.637678  \n",
       "2              0    835.663001  \n",
       "3             14     52.290460  \n",
       "4              9     26.907806  "
      ]
     },
     "execution_count": 28,
     "metadata": {},
     "output_type": "execute_result"
    }
   ],
   "source": [
    "min_c = data['min_consumption'].values\n",
    "max_c = data['max_consumption'].values\n",
    "random_consumption = [rd.uniform(min_c[i], max_c[i]) for i in range(len(min_c))]\n",
    "working_hours = []\n",
    "for i in range(len(min_c)):\n",
    "    random_hours = rd.randint(0,24)\n",
    "    working_hours.append(random_hours)\n",
    "data['input_power'] = random_consumption\n",
    "data['working_hours'] = working_hours\n",
    "output_power = []\n",
    "for i in range(len(min_c)):\n",
    "    output_power.append(rd.uniform(random_consumption[i] * 0.70 , random_consumption[i]))\n",
    "    output_power[i] = output_power[i]\n",
    "data['output_power'] = output_power \n",
    "data.head()"
   ]
  },
  {
   "attachments": {},
   "cell_type": "markdown",
   "metadata": {},
   "source": [
    "## Calculating efficiency metrics\n",
    "\n",
    "This code cell calculates the `Enhanced_efficiency` and `efficiency` columns of the `data` DataFrame based on the `input_power`, `output_power`, and `min_consumption` columns.\n"
   ]
  },
  {
   "cell_type": "code",
   "execution_count": 29,
   "metadata": {},
   "outputs": [
    {
     "data": {
      "text/html": [
       "<div>\n",
       "<style scoped>\n",
       "    .dataframe tbody tr th:only-of-type {\n",
       "        vertical-align: middle;\n",
       "    }\n",
       "\n",
       "    .dataframe tbody tr th {\n",
       "        vertical-align: top;\n",
       "    }\n",
       "\n",
       "    .dataframe thead th {\n",
       "        text-align: right;\n",
       "    }\n",
       "</style>\n",
       "<table border=\"1\" class=\"dataframe\">\n",
       "  <thead>\n",
       "    <tr style=\"text-align: right;\">\n",
       "      <th></th>\n",
       "      <th>device_name</th>\n",
       "      <th>min_consumption</th>\n",
       "      <th>max_consumption</th>\n",
       "      <th>device_age</th>\n",
       "      <th>input_power</th>\n",
       "      <th>working_hours</th>\n",
       "      <th>output_power</th>\n",
       "      <th>Enhanced_efficiency</th>\n",
       "      <th>efficiency</th>\n",
       "    </tr>\n",
       "  </thead>\n",
       "  <tbody>\n",
       "    <tr>\n",
       "      <th>0</th>\n",
       "      <td>bulb</td>\n",
       "      <td>100.0</td>\n",
       "      <td>120.0</td>\n",
       "      <td>3</td>\n",
       "      <td>102.902206</td>\n",
       "      <td>23</td>\n",
       "      <td>100.802787</td>\n",
       "      <td>97.959792</td>\n",
       "      <td>100.802787</td>\n",
       "    </tr>\n",
       "    <tr>\n",
       "      <th>1</th>\n",
       "      <td>LED TV 42 INCH</td>\n",
       "      <td>58.0</td>\n",
       "      <td>60.0</td>\n",
       "      <td>5</td>\n",
       "      <td>58.572390</td>\n",
       "      <td>15</td>\n",
       "      <td>51.637678</td>\n",
       "      <td>88.160442</td>\n",
       "      <td>89.030479</td>\n",
       "    </tr>\n",
       "    <tr>\n",
       "      <th>2</th>\n",
       "      <td>3''belt sander</td>\n",
       "      <td>1000.0</td>\n",
       "      <td>1000.0</td>\n",
       "      <td>4</td>\n",
       "      <td>1000.000000</td>\n",
       "      <td>0</td>\n",
       "      <td>835.663001</td>\n",
       "      <td>83.566300</td>\n",
       "      <td>83.566300</td>\n",
       "    </tr>\n",
       "    <tr>\n",
       "      <th>3</th>\n",
       "      <td>Air cooler</td>\n",
       "      <td>65.0</td>\n",
       "      <td>80.0</td>\n",
       "      <td>4</td>\n",
       "      <td>66.369406</td>\n",
       "      <td>14</td>\n",
       "      <td>52.290460</td>\n",
       "      <td>78.786994</td>\n",
       "      <td>80.446861</td>\n",
       "    </tr>\n",
       "    <tr>\n",
       "      <th>4</th>\n",
       "      <td>Air purifier</td>\n",
       "      <td>25.0</td>\n",
       "      <td>30.0</td>\n",
       "      <td>3</td>\n",
       "      <td>27.811067</td>\n",
       "      <td>9</td>\n",
       "      <td>26.907806</td>\n",
       "      <td>96.752152</td>\n",
       "      <td>107.631224</td>\n",
       "    </tr>\n",
       "  </tbody>\n",
       "</table>\n",
       "</div>"
      ],
      "text/plain": [
       "      device_name  min_consumption  max_consumption  device_age  input_power  \\\n",
       "0            bulb            100.0            120.0           3   102.902206   \n",
       "1  LED TV 42 INCH             58.0             60.0           5    58.572390   \n",
       "2  3''belt sander           1000.0           1000.0           4  1000.000000   \n",
       "3      Air cooler             65.0             80.0           4    66.369406   \n",
       "4    Air purifier             25.0             30.0           3    27.811067   \n",
       "\n",
       "   working_hours  output_power  Enhanced_efficiency  efficiency  \n",
       "0             23    100.802787            97.959792  100.802787  \n",
       "1             15     51.637678            88.160442   89.030479  \n",
       "2              0    835.663001            83.566300   83.566300  \n",
       "3             14     52.290460            78.786994   80.446861  \n",
       "4              9     26.907806            96.752152  107.631224  "
      ]
     },
     "execution_count": 29,
     "metadata": {},
     "output_type": "execute_result"
    }
   ],
   "source": [
    "Enhanced_efficiency = []\n",
    "for i in range(len(min_c)):\n",
    "    Enhanced_efficiency.append(output_power[i]/random_consumption[i]*100)\n",
    "data['Enhanced_efficiency'] = Enhanced_efficiency\n",
    "efficiency = data['output_power']/data['min_consumption']*100\n",
    "data['efficiency'] = efficiency\n",
    "data.head()\n"
   ]
  },
  {
   "attachments": {},
   "cell_type": "markdown",
   "metadata": {},
   "source": [
    "## Handling values\n"
   ]
  },
  {
   "cell_type": "code",
   "execution_count": 30,
   "metadata": {},
   "outputs": [
    {
     "data": {
      "text/html": [
       "<div>\n",
       "<style scoped>\n",
       "    .dataframe tbody tr th:only-of-type {\n",
       "        vertical-align: middle;\n",
       "    }\n",
       "\n",
       "    .dataframe tbody tr th {\n",
       "        vertical-align: top;\n",
       "    }\n",
       "\n",
       "    .dataframe thead th {\n",
       "        text-align: right;\n",
       "    }\n",
       "</style>\n",
       "<table border=\"1\" class=\"dataframe\">\n",
       "  <thead>\n",
       "    <tr style=\"text-align: right;\">\n",
       "      <th></th>\n",
       "      <th>device_name</th>\n",
       "      <th>min_consumption</th>\n",
       "      <th>max_consumption</th>\n",
       "      <th>device_age</th>\n",
       "      <th>input_power</th>\n",
       "      <th>working_hours</th>\n",
       "      <th>output_power</th>\n",
       "      <th>Enhanced_efficiency</th>\n",
       "      <th>efficiency</th>\n",
       "    </tr>\n",
       "  </thead>\n",
       "  <tbody>\n",
       "    <tr>\n",
       "      <th>0</th>\n",
       "      <td>bulb</td>\n",
       "      <td>100.0</td>\n",
       "      <td>120.0</td>\n",
       "      <td>3</td>\n",
       "      <td>102.902206</td>\n",
       "      <td>23</td>\n",
       "      <td>100.802787</td>\n",
       "      <td>97.959792</td>\n",
       "      <td>100.802787</td>\n",
       "    </tr>\n",
       "    <tr>\n",
       "      <th>1</th>\n",
       "      <td>LED TV 42 INCH</td>\n",
       "      <td>58.0</td>\n",
       "      <td>60.0</td>\n",
       "      <td>5</td>\n",
       "      <td>58.572390</td>\n",
       "      <td>15</td>\n",
       "      <td>51.637678</td>\n",
       "      <td>88.160442</td>\n",
       "      <td>89.030479</td>\n",
       "    </tr>\n",
       "    <tr>\n",
       "      <th>2</th>\n",
       "      <td>3''belt sander</td>\n",
       "      <td>1000.0</td>\n",
       "      <td>1000.0</td>\n",
       "      <td>4</td>\n",
       "      <td>1000.000000</td>\n",
       "      <td>0</td>\n",
       "      <td>835.663001</td>\n",
       "      <td>83.566300</td>\n",
       "      <td>83.566300</td>\n",
       "    </tr>\n",
       "    <tr>\n",
       "      <th>3</th>\n",
       "      <td>Air cooler</td>\n",
       "      <td>65.0</td>\n",
       "      <td>80.0</td>\n",
       "      <td>4</td>\n",
       "      <td>66.369406</td>\n",
       "      <td>14</td>\n",
       "      <td>52.290460</td>\n",
       "      <td>78.786994</td>\n",
       "      <td>80.446861</td>\n",
       "    </tr>\n",
       "    <tr>\n",
       "      <th>4</th>\n",
       "      <td>Air purifier</td>\n",
       "      <td>25.0</td>\n",
       "      <td>30.0</td>\n",
       "      <td>3</td>\n",
       "      <td>27.811067</td>\n",
       "      <td>9</td>\n",
       "      <td>26.907806</td>\n",
       "      <td>96.752152</td>\n",
       "      <td>107.631224</td>\n",
       "    </tr>\n",
       "  </tbody>\n",
       "</table>\n",
       "</div>"
      ],
      "text/plain": [
       "      device_name  min_consumption  max_consumption  device_age  input_power  \\\n",
       "0            bulb            100.0            120.0           3   102.902206   \n",
       "1  LED TV 42 INCH             58.0             60.0           5    58.572390   \n",
       "2  3''belt sander           1000.0           1000.0           4  1000.000000   \n",
       "3      Air cooler             65.0             80.0           4    66.369406   \n",
       "4    Air purifier             25.0             30.0           3    27.811067   \n",
       "\n",
       "   working_hours  output_power  Enhanced_efficiency  efficiency  \n",
       "0             23    100.802787            97.959792  100.802787  \n",
       "1             15     51.637678            88.160442   89.030479  \n",
       "2              0    835.663001            83.566300   83.566300  \n",
       "3             14     52.290460            78.786994   80.446861  \n",
       "4              9     26.907806            96.752152  107.631224  "
      ]
     },
     "execution_count": 30,
     "metadata": {},
     "output_type": "execute_result"
    }
   ],
   "source": [
    "data = data.replace([np.inf, -np.inf], np.nan)\n",
    "data = data.dropna()\n",
    "data.head()"
   ]
  },
  {
   "attachments": {},
   "cell_type": "markdown",
   "metadata": {},
   "source": [
    "## Adjusting efficiency values\n"
   ]
  },
  {
   "cell_type": "code",
   "execution_count": 31,
   "metadata": {},
   "outputs": [
    {
     "data": {
      "text/html": [
       "<div>\n",
       "<style scoped>\n",
       "    .dataframe tbody tr th:only-of-type {\n",
       "        vertical-align: middle;\n",
       "    }\n",
       "\n",
       "    .dataframe tbody tr th {\n",
       "        vertical-align: top;\n",
       "    }\n",
       "\n",
       "    .dataframe thead th {\n",
       "        text-align: right;\n",
       "    }\n",
       "</style>\n",
       "<table border=\"1\" class=\"dataframe\">\n",
       "  <thead>\n",
       "    <tr style=\"text-align: right;\">\n",
       "      <th></th>\n",
       "      <th>device_name</th>\n",
       "      <th>min_consumption</th>\n",
       "      <th>max_consumption</th>\n",
       "      <th>device_age</th>\n",
       "      <th>input_power</th>\n",
       "      <th>working_hours</th>\n",
       "      <th>output_power</th>\n",
       "      <th>Enhanced_efficiency</th>\n",
       "      <th>efficiency</th>\n",
       "    </tr>\n",
       "  </thead>\n",
       "  <tbody>\n",
       "    <tr>\n",
       "      <th>0</th>\n",
       "      <td>bulb</td>\n",
       "      <td>100.0</td>\n",
       "      <td>120.0</td>\n",
       "      <td>3</td>\n",
       "      <td>102.902206</td>\n",
       "      <td>23</td>\n",
       "      <td>100.802787</td>\n",
       "      <td>97.959792</td>\n",
       "      <td>103.645782</td>\n",
       "    </tr>\n",
       "    <tr>\n",
       "      <th>1</th>\n",
       "      <td>LED TV 42 INCH</td>\n",
       "      <td>58.0</td>\n",
       "      <td>60.0</td>\n",
       "      <td>5</td>\n",
       "      <td>58.572390</td>\n",
       "      <td>15</td>\n",
       "      <td>51.637678</td>\n",
       "      <td>88.160442</td>\n",
       "      <td>89.900516</td>\n",
       "    </tr>\n",
       "    <tr>\n",
       "      <th>2</th>\n",
       "      <td>3''belt sander</td>\n",
       "      <td>1000.0</td>\n",
       "      <td>1000.0</td>\n",
       "      <td>4</td>\n",
       "      <td>1000.000000</td>\n",
       "      <td>0</td>\n",
       "      <td>835.663001</td>\n",
       "      <td>83.566300</td>\n",
       "      <td>83.566300</td>\n",
       "    </tr>\n",
       "    <tr>\n",
       "      <th>3</th>\n",
       "      <td>Air cooler</td>\n",
       "      <td>65.0</td>\n",
       "      <td>80.0</td>\n",
       "      <td>4</td>\n",
       "      <td>66.369406</td>\n",
       "      <td>14</td>\n",
       "      <td>52.290460</td>\n",
       "      <td>78.786994</td>\n",
       "      <td>82.106729</td>\n",
       "    </tr>\n",
       "    <tr>\n",
       "      <th>4</th>\n",
       "      <td>Air purifier</td>\n",
       "      <td>25.0</td>\n",
       "      <td>30.0</td>\n",
       "      <td>3</td>\n",
       "      <td>27.811067</td>\n",
       "      <td>9</td>\n",
       "      <td>26.907806</td>\n",
       "      <td>96.752152</td>\n",
       "      <td>118.510296</td>\n",
       "    </tr>\n",
       "  </tbody>\n",
       "</table>\n",
       "</div>"
      ],
      "text/plain": [
       "      device_name  min_consumption  max_consumption  device_age  input_power  \\\n",
       "0            bulb            100.0            120.0           3   102.902206   \n",
       "1  LED TV 42 INCH             58.0             60.0           5    58.572390   \n",
       "2  3''belt sander           1000.0           1000.0           4  1000.000000   \n",
       "3      Air cooler             65.0             80.0           4    66.369406   \n",
       "4    Air purifier             25.0             30.0           3    27.811067   \n",
       "\n",
       "   working_hours  output_power  Enhanced_efficiency  efficiency  \n",
       "0             23    100.802787            97.959792  103.645782  \n",
       "1             15     51.637678            88.160442   89.900516  \n",
       "2              0    835.663001            83.566300   83.566300  \n",
       "3             14     52.290460            78.786994   82.106729  \n",
       "4              9     26.907806            96.752152  118.510296  "
      ]
     },
     "execution_count": 31,
     "metadata": {},
     "output_type": "execute_result"
    }
   ],
   "source": [
    "List_efficiency = data['efficiency'].values\n",
    "List_enhan_efficiency = data['Enhanced_efficiency'].values\n",
    "\n",
    "for i in range(len(List_efficiency)):\n",
    "    # if enhance efficiency is greater than enhance efficiency then minus abs value for efficiency\n",
    "    if List_enhan_efficiency[i] > List_efficiency[i]:\n",
    "        List_efficiency[i] = List_efficiency[i] - abs(List_enhan_efficiency[i] - List_efficiency[i])\n",
    "    # if enhance efficiency is less than enhance efficiency then plus abs value for efficiency\n",
    "    elif List_enhan_efficiency[i] < List_efficiency[i]:\n",
    "        List_efficiency[i] = List_efficiency[i] + abs(List_enhan_efficiency[i] - List_efficiency[i])\n",
    "    # if enhance efficiency is equal to enhance efficiency then plus abs value for efficiency\n",
    "    else:\n",
    "        List_efficiency[i] = List_efficiency[i] + abs(List_enhan_efficiency[i] - List_efficiency[i])\n",
    "data['efficiency'] = List_efficiency\n",
    "data['efficiency'] = data['efficiency'].apply(lambda x: 200 if x > 200 else x)\n",
    "data['efficiency'] = data['efficiency'].apply(lambda x: 0 if x < 0 else x)\n",
    "data['Enhanced_efficiency'] = data['Enhanced_efficiency'].apply(lambda x: 200 if x > 200 else x)\n",
    "data['Enhanced_efficiency'] = data['Enhanced_efficiency'].apply(lambda x: 0 if x < 0 else x)\n",
    "data.head()\n"
   ]
  },
  {
   "attachments": {},
   "cell_type": "markdown",
   "metadata": {},
   "source": [
    "## Training a GradientBoostingRegressor model\n"
   ]
  },
  {
   "cell_type": "code",
   "execution_count": 32,
   "metadata": {},
   "outputs": [
    {
     "data": {
      "text/plain": [
       "0.5440707881858058"
      ]
     },
     "execution_count": 32,
     "metadata": {},
     "output_type": "execute_result"
    }
   ],
   "source": [
    "X = data[['min_consumption', 'max_consumption', 'input_power']]\n",
    "y = data['efficiency']\n",
    "X_train, X_test, y_train, y_test = train_test_split(X, y, test_size=0.2, random_state=0)\n",
    "Normal = GradientBoostingRegressor(random_state=0)\n",
    "Normal.fit(X_train, y_train)\n",
    "Normal.score(X_test, y_test)\n"
   ]
  },
  {
   "cell_type": "code",
   "execution_count": 33,
   "metadata": {},
   "outputs": [],
   "source": [
    "#feature to predict enhanced efficiency with K-centroid\n",
    "X = data[['min_consumption', 'max_consumption', 'input_power']]\n",
    "y = data['Enhanced_efficiency']\n"
   ]
  },
  {
   "attachments": {},
   "cell_type": "markdown",
   "metadata": {},
   "source": [
    "## Hariarchical clustering\n"
   ]
  },
  {
   "cell_type": "code",
   "execution_count": 34,
   "metadata": {},
   "outputs": [
    {
     "name": "stdout",
     "output_type": "stream",
     "text": [
      "[0 2 2 2 2 2 2 0 2 2 2 2 0 0 2 2 2 2 2 0 2 0 2 0 2 2 2 2 2 2 2 2 2 2 0 2 2\n",
      " 1 2 2 2 2 0 0 2 2 2 0 0 2 2 2 0 2 2 2 2 2 2 2 2 2 2 0 0 2 0 2 2 2 0 2 0 2\n",
      " 2 0 1 0 2 0 0 2 2 2 2 2 2 1 2 0 0 2 2 2 1 0 0 0 2 2 0 2 2 2 2 2 0 2 2 0 2\n",
      " 0 2 2 2 2 2 2 0 0 2 2 2 2 2 0 2 0 0 2 2 2 2 0 2 2 2 0 2 0 2 0 2 0 2 2 0 0\n",
      " 2 2 2 2 2 2 2 0 0 2 2 2 2 2 2 0 0 0 0 2 2 1 2 2 2 2 2 0 2 0 2 0 0 2 2 0 2\n",
      " 2 2 2 2 0 2 2 2 2 0 0 0 0 0 2 0 2 2 2 0 1 2 2 2 0 2 2 0 2 2 2 2 0 2 2 2 0\n",
      " 0 2 2 2 2 1 2 2 1 0 2 2 2 2 2 2 2]\n"
     ]
    },
    {
     "name": "stderr",
     "output_type": "stream",
     "text": [
      "/home/xer0bit/.local/lib/python3.10/site-packages/sklearn/cluster/_agglomerative.py:983: FutureWarning: Attribute `affinity` was deprecated in version 1.2 and will be removed in 1.4. Use `metric` instead\n",
      "  warnings.warn(\n"
     ]
    }
   ],
   "source": [
    "hc = AgglomerativeClustering(n_clusters=3, affinity='euclidean', linkage='ward')\n",
    "y_hc = hc.fit_predict(X_train)\n",
    "print(y_hc)\n"
   ]
  },
  {
   "cell_type": "code",
   "execution_count": 35,
   "metadata": {},
   "outputs": [],
   "source": [
    "def find_centroid(cluster):\n",
    "    \"\"\"\n",
    "    Calculates the centroid of a cluster.\n",
    "\n",
    "    Args:\n",
    "        cluster: A list of data points.\n",
    "\n",
    "    Returns:\n",
    "        The centroid of the cluster.\n",
    "    \"\"\"\n",
    "    centroid = sum(cluster) / len(cluster)\n",
    "    return centroid"
   ]
  },
  {
   "attachments": {},
   "cell_type": "markdown",
   "metadata": {},
   "source": [
    "## k-centroid hierarchical clustering\n"
   ]
  },
  {
   "cell_type": "code",
   "execution_count": 36,
   "metadata": {},
   "outputs": [],
   "source": [
    "def hierarchical_clustering(dataset, k):\n",
    "    \"\"\"\n",
    "    Performs hierarchical clustering on the given dataset using k-centroid link.\n",
    "\n",
    "    Args:\n",
    "        dataset: A list of data points.\n",
    "        k: The number of neighbors of a centroid.\n",
    "\n",
    "    Returns:\n",
    "        A list of clusters.\n",
    "    \"\"\"\n",
    "    \n",
    "    # Initialize the clusters.\n",
    "    clusters = [[x] for x in dataset]\n",
    "    \n",
    "    # Iterate over all pairs of clusters.\n",
    "    for _ in range(len(dataset) - 1):\n",
    "        min_distance = float('inf')\n",
    "        merge_clusters = ()\n",
    "        \n",
    "        for i in range(len(clusters)):\n",
    "            for j in range(i + 1, len(clusters)):\n",
    "                # Calculate the distance between the two clusters.\n",
    "                dist_1 = []\n",
    "                dist_2 = []\n",
    "                \n",
    "                # Find centroids for clusters Ci and Cj.\n",
    "                centroid_i = find_centroid(clusters[i])\n",
    "                centroid_j = find_centroid(clusters[j])\n",
    "                \n",
    "                # Calculate distances from objects in Ci to centroid_i.\n",
    "                for obj in clusters[i]:\n",
    "                    dist_1.append(np.linalg.norm(obj - centroid_i))\n",
    "                \n",
    "                # Calculate distances from objects in Cj to centroid_j.\n",
    "                for obj in clusters[j]:\n",
    "                    dist_2.append(np.linalg.norm(obj - centroid_j))\n",
    "                \n",
    "                # Select the k nearest neighbors from each cluster.\n",
    "                dist_1 = sorted(dist_1)[:k]\n",
    "                dist_2 = sorted(dist_2)[:k]\n",
    "                \n",
    "                neighbors = []\n",
    "                for obj1 in dist_1:\n",
    "                    for obj2 in dist_2:\n",
    "                        #obj1 and obj2 are the distances from Ci to Cj and Cj to Ci respectively calculated above.\n",
    "                        neighbors.append(obj1 + obj2)\n",
    "\n",
    "\n",
    "                # Calculate the average  = total distance / min(k, len(Ci) * len(Cj)).\n",
    "                average_distance = sum(neighbors) / min(k, len(clusters[i]) * len(clusters[j]))\n",
    "                if average_distance < min_distance:\n",
    "                    min_distance = average_distance\n",
    "                    # Store the closest pair of clusters.\n",
    "                    merge_clusters = (i, j)\n",
    "        \n",
    "        # Merge the two closest clusters.\n",
    "        merged_cluster = clusters[merge_clusters[0]] + clusters[merge_clusters[1]]\n",
    "        clusters = [c for idx, c in enumerate(clusters) if idx not in merge_clusters]\n",
    "        clusters.append(merged_cluster)\n",
    "    \n",
    "    # Return the list of clusters.\n",
    "    return clusters\n"
   ]
  },
  {
   "cell_type": "code",
   "execution_count": 39,
   "metadata": {},
   "outputs": [],
   "source": [
    "X = data[['min_consumption', 'max_consumption', 'input_power']]\n",
    "y = data['Enhanced_efficiency']\n",
    "X_train, X_test,=_train, y_test = train_test_split(X, y, test_size=0.2, random_state=0)\n",
    "clusters = hierarchical_clustering(X_train.values, 3)\n"
   ]
  },
  {
   "cell_type": "code",
   "execution_count": 69,
   "metadata": {},
   "outputs": [
    {
     "data": {
      "image/png": "[encoded data removed]",
      "text/plain": [
       "<Figure size 432x288 with 1 Axes>"
      ]
     },
     "metadata": {
      "needs_background": "light"
     },
     "output_type": "display_data"
    }
   ],
   "source": [
    "sns.scatterplot(x='min_consumption', y='max_consumption', hue=y_hc, data=X_train, palette='Set1', s=100)\n",
    "plt.show()"
   ]
  },
  {
   "cell_type": "code",
   "execution_count": 70,
   "metadata": {},
   "outputs": [
    {
     "data": {
      "image/png": "[encoded data removed]",
      "text/plain": [
       "<Figure size 1800x720 with 1 Axes>"
      ]
     },
     "metadata": {
      "needs_background": "light"
     },
     "output_type": "display_data"
    }
   ],
   "source": [
    "Z = linkage(X_train, 'ward')\n",
    "fig = plt.figure(figsize=(25, 10))\n",
    "dn = dendrogram(Z)\n",
    "plt.show()"
   ]
  },
  {
   "attachments": {},
   "cell_type": "markdown",
   "metadata": {},
   "source": [
    "## Gradient Boosting Regressor Model with Enhanced Efficiency\n"
   ]
  },
  {
   "cell_type": "code",
   "execution_count": 76,
   "metadata": {},
   "outputs": [
    {
     "data": {
      "text/html": [
       "<div>\n",
       "<style scoped>\n",
       "    .dataframe tbody tr th:only-of-type {\n",
       "        vertical-align: middle;\n",
       "    }\n",
       "\n",
       "    .dataframe tbody tr th {\n",
       "        vertical-align: top;\n",
       "    }\n",
       "\n",
       "    .dataframe thead th {\n",
       "        text-align: right;\n",
       "    }\n",
       "</style>\n",
       "<table border=\"1\" class=\"dataframe\">\n",
       "  <thead>\n",
       "    <tr style=\"text-align: right;\">\n",
       "      <th></th>\n",
       "      <th>min_consumption</th>\n",
       "      <th>max_consumption</th>\n",
       "      <th>input_power</th>\n",
       "      <th>cluster</th>\n",
       "    </tr>\n",
       "  </thead>\n",
       "  <tbody>\n",
       "    <tr>\n",
       "      <th>135</th>\n",
       "      <td>3000.0</td>\n",
       "      <td>3000.67</td>\n",
       "      <td>3000.444712</td>\n",
       "      <td>0</td>\n",
       "    </tr>\n",
       "    <tr>\n",
       "      <th>146</th>\n",
       "      <td>25.0</td>\n",
       "      <td>26.67</td>\n",
       "      <td>25.738318</td>\n",
       "      <td>2</td>\n",
       "    </tr>\n",
       "    <tr>\n",
       "      <th>63</th>\n",
       "      <td>200.0</td>\n",
       "      <td>220.00</td>\n",
       "      <td>217.092330</td>\n",
       "      <td>2</td>\n",
       "    </tr>\n",
       "    <tr>\n",
       "      <th>293</th>\n",
       "      <td>10.0</td>\n",
       "      <td>50.00</td>\n",
       "      <td>38.943298</td>\n",
       "      <td>2</td>\n",
       "    </tr>\n",
       "    <tr>\n",
       "      <th>285</th>\n",
       "      <td>40.0</td>\n",
       "      <td>45.00</td>\n",
       "      <td>42.392620</td>\n",
       "      <td>2</td>\n",
       "    </tr>\n",
       "  </tbody>\n",
       "</table>\n",
       "</div>"
      ],
      "text/plain": [
       "     min_consumption  max_consumption  input_power  cluster\n",
       "135           3000.0          3000.67  3000.444712        0\n",
       "146             25.0            26.67    25.738318        2\n",
       "63             200.0           220.00   217.092330        2\n",
       "293             10.0            50.00    38.943298        2\n",
       "285             40.0            45.00    42.392620        2"
      ]
     },
     "execution_count": 76,
     "metadata": {},
     "output_type": "execute_result"
    }
   ],
   "source": [
    "X_train['cluster'] = y_hc\n",
    "X_train.head()"
   ]
  },
  {
   "cell_type": "code",
   "execution_count": 79,
   "metadata": {},
   "outputs": [
    {
     "name": "stdout",
     "output_type": "stream",
     "text": [
      "Normal efficiency score:  -32.392401950496996\n"
     ]
    }
   ],
   "source": [
    "X_train, X_test, y_train, y_test = train_test_split(X, y, test_size=0.2, random_state=0)\n",
    "Enhanced = GradientBoostingRegressor(random_state=0)\n",
    "Enhanced.fit(X_train, y_train)\n",
    "Enhanced.score(X_test, y_test)\n",
    "print(\"Normal efficiency score: \", Normal.score(X_test, y_test))"
   ]
  },
  {
   "attachments": {},
   "cell_type": "markdown",
   "metadata": {},
   "source": [
    "## Test input\n"
   ]
  },
  {
   "cell_type": "code",
   "execution_count": 80,
   "metadata": {},
   "outputs": [
    {
     "name": "stdout",
     "output_type": "stream",
     "text": [
      "Normal efficiency:  [106.71657705]\n",
      "Enhanced efficiency:  [79.03470145]\n"
     ]
    },
    {
     "name": "stderr",
     "output_type": "stream",
     "text": [
      "/home/xer0bit/.local/lib/python3.10/site-packages/sklearn/base.py:439: UserWarning: X does not have valid feature names, but GradientBoostingRegressor was fitted with feature names\n",
      "  warnings.warn(\n",
      "/home/xer0bit/.local/lib/python3.10/site-packages/sklearn/base.py:439: UserWarning: X does not have valid feature names, but GradientBoostingRegressor was fitted with feature names\n",
      "  warnings.warn(\n"
     ]
    }
   ],
   "source": [
    "\n",
    "test_input = [[300, 600, 400]]\n",
    "test_output = Normal.predict(test_input)\n",
    "print(\"Normal efficiency: \", test_output)\n",
    "test_output = K_centroid.predict(test_input)\n",
    "print(\"Enhanced efficiency: \", test_output)\n"
   ]
  },
  {
   "attachments": {},
   "cell_type": "markdown",
   "metadata": {},
   "source": [
    "## Saving models\n"
   ]
  },
  {
   "cell_type": "code",
   "execution_count": null,
   "metadata": {},
   "outputs": [],
   "source": [
    "import pickle\n",
    "try:\n",
    "    os.mkdir('pretrained_model')\n",
    "except:\n",
    "    pass\n",
    "pickle.dump(Normal, open('pretrained_model/Normal.pkl', 'wb'))\n",
    "pickle.dump(K_centroid, open('pretrained_model/K_centroid.pkl', 'wb'))\n",
    "print(\"Model saved successfully\")"
   ]
  }
 ],
 "metadata": {
  "kernelspec": {
   "display_name": "Python 3",
   "language": "python",
   "name": "python3"
  },
  "language_info": {
   "codemirror_mode": {
    "name": "ipython",
    "version": 3
   },
   "file_extension": ".py",
   "mimetype": "text/x-python",
   "name": "python",
   "nbconvert_exporter": "python",
   "pygments_lexer": "ipython3",
   "version": "3.10.6"
  },
  "orig_nbformat": 4
 },
 "nbformat": 4,
 "nbformat_minor": 2
}
