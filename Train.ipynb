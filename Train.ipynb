{
 "cells": [
  {
   "attachments": {},
   "cell_type": "markdown",
   "metadata": {},
   "source": [
    "## Importing Libraries\n",
    "\n",
    "- **pandas**: For data manipulation and analysis\n",
    "- **sklearn.cluster**: For clustering algorithms\n",
    "- **sklearn.model_selection**: For splitting the dataset into training and testing sets\n",
    "- **sklearn.ensemble**: For building ensemble models\n",
    "- **scipy.cluster.hierarchy**: For hierarchical clustering algorithms\n",
    "- **matplotlib.pyplot**: For data visualization\n",
    "- **seaborn**: For creating attractive and informative statistical graphics\n",
    "- **random**: For generating random numbers\n",
    "- **numpy**: For numerical computing\n"
   ]
  },
  {
   "cell_type": "code",
   "execution_count": 1,
   "metadata": {},
   "outputs": [],
   "source": [
    "import pandas as pd\n",
    "from sklearn.cluster import AgglomerativeClustering\n",
    "from sklearn.model_selection import train_test_split\n",
    "from sklearn.ensemble import GradientBoostingRegressor\n",
    "from scipy.spatial.distance import cdist\n",
    "import random as rd\n",
    "import numpy as np\n",
    "import math\n",
    "import matplotlib.pyplot as plt\n",
    "import seaborn as sns\n",
    "from scipy.cluster.hierarchy import linkage, fcluster\n",
    "from scipy.cluster.hierarchy import dendrogram, linkage\n",
    "from sklearn.cluster import AgglomerativeClustering\n",
    "import os\n"
   ]
  },
  {
   "attachments": {},
   "cell_type": "markdown",
   "metadata": {},
   "source": [
    "## Reading in the input data\n"
   ]
  },
  {
   "cell_type": "code",
   "execution_count": 2,
   "metadata": {},
   "outputs": [],
   "source": [
    "# Load the data\n",
    "try:\n",
    "    data = pd.read_csv(\"dataset.csv\")\n",
    "except FileNotFoundError:\n",
    "    print(\"Could not find the input file. Please check the file path and try again.\")\n",
    "    exit()"
   ]
  },
  {
   "attachments": {},
   "cell_type": "markdown",
   "metadata": {},
   "source": [
    "## Viewing the first few rows of the data\n"
   ]
  },
  {
   "cell_type": "code",
   "execution_count": 3,
   "metadata": {},
   "outputs": [
    {
     "data": {
      "text/html": [
       "<div>\n",
       "<style scoped>\n",
       "    .dataframe tbody tr th:only-of-type {\n",
       "        vertical-align: middle;\n",
       "    }\n",
       "\n",
       "    .dataframe tbody tr th {\n",
       "        vertical-align: top;\n",
       "    }\n",
       "\n",
       "    .dataframe thead th {\n",
       "        text-align: right;\n",
       "    }\n",
       "</style>\n",
       "<table border=\"1\" class=\"dataframe\">\n",
       "  <thead>\n",
       "    <tr style=\"text-align: right;\">\n",
       "      <th></th>\n",
       "      <th>device_name</th>\n",
       "      <th>min_consumption</th>\n",
       "      <th>max_consumption</th>\n",
       "      <th>device_age</th>\n",
       "    </tr>\n",
       "  </thead>\n",
       "  <tbody>\n",
       "    <tr>\n",
       "      <th>0</th>\n",
       "      <td>bulb</td>\n",
       "      <td>100.0</td>\n",
       "      <td>120.0</td>\n",
       "      <td>3</td>\n",
       "    </tr>\n",
       "    <tr>\n",
       "      <th>1</th>\n",
       "      <td>LED TV 42 INCH</td>\n",
       "      <td>58.0</td>\n",
       "      <td>60.0</td>\n",
       "      <td>5</td>\n",
       "    </tr>\n",
       "    <tr>\n",
       "      <th>2</th>\n",
       "      <td>3''belt sander</td>\n",
       "      <td>1000.0</td>\n",
       "      <td>1000.0</td>\n",
       "      <td>4</td>\n",
       "    </tr>\n",
       "    <tr>\n",
       "      <th>3</th>\n",
       "      <td>Air cooler</td>\n",
       "      <td>65.0</td>\n",
       "      <td>80.0</td>\n",
       "      <td>4</td>\n",
       "    </tr>\n",
       "    <tr>\n",
       "      <th>4</th>\n",
       "      <td>Air purifier</td>\n",
       "      <td>25.0</td>\n",
       "      <td>30.0</td>\n",
       "      <td>3</td>\n",
       "    </tr>\n",
       "  </tbody>\n",
       "</table>\n",
       "</div>"
      ],
      "text/plain": [
       "      device_name  min_consumption  max_consumption  device_age\n",
       "0            bulb            100.0            120.0           3\n",
       "1  LED TV 42 INCH             58.0             60.0           5\n",
       "2  3''belt sander           1000.0           1000.0           4\n",
       "3      Air cooler             65.0             80.0           4\n",
       "4    Air purifier             25.0             30.0           3"
      ]
     },
     "execution_count": 3,
     "metadata": {},
     "output_type": "execute_result"
    }
   ],
   "source": [
    "data.head()"
   ]
  },
  {
   "attachments": {},
   "cell_type": "markdown",
   "metadata": {},
   "source": [
    "## Getting values for input_power, working_hours, and output_power\n",
    "\n",
    "This code cell generates values for the `input_power`, `working_hours`, and `output_power` columns of the `data` DataFrame based on the `min_consumption` and `max_consumption` columns.\n"
   ]
  },
  {
   "cell_type": "code",
   "execution_count": 3,
   "metadata": {},
   "outputs": [
    {
     "data": {
      "text/html": [
       "<div>\n",
       "<style scoped>\n",
       "    .dataframe tbody tr th:only-of-type {\n",
       "        vertical-align: middle;\n",
       "    }\n",
       "\n",
       "    .dataframe tbody tr th {\n",
       "        vertical-align: top;\n",
       "    }\n",
       "\n",
       "    .dataframe thead th {\n",
       "        text-align: right;\n",
       "    }\n",
       "</style>\n",
       "<table border=\"1\" class=\"dataframe\">\n",
       "  <thead>\n",
       "    <tr style=\"text-align: right;\">\n",
       "      <th></th>\n",
       "      <th>device_name</th>\n",
       "      <th>min_consumption</th>\n",
       "      <th>max_consumption</th>\n",
       "      <th>device_age</th>\n",
       "      <th>input_power</th>\n",
       "      <th>working_hours</th>\n",
       "      <th>output_power</th>\n",
       "    </tr>\n",
       "  </thead>\n",
       "  <tbody>\n",
       "    <tr>\n",
       "      <th>0</th>\n",
       "      <td>bulb</td>\n",
       "      <td>100.0</td>\n",
       "      <td>120.0</td>\n",
       "      <td>3</td>\n",
       "      <td>107.309403</td>\n",
       "      <td>23</td>\n",
       "      <td>77.743099</td>\n",
       "    </tr>\n",
       "    <tr>\n",
       "      <th>1</th>\n",
       "      <td>LED TV 42 INCH</td>\n",
       "      <td>58.0</td>\n",
       "      <td>60.0</td>\n",
       "      <td>5</td>\n",
       "      <td>58.310312</td>\n",
       "      <td>10</td>\n",
       "      <td>44.435175</td>\n",
       "    </tr>\n",
       "    <tr>\n",
       "      <th>2</th>\n",
       "      <td>3''belt sander</td>\n",
       "      <td>1000.0</td>\n",
       "      <td>1000.0</td>\n",
       "      <td>4</td>\n",
       "      <td>1000.000000</td>\n",
       "      <td>10</td>\n",
       "      <td>870.077334</td>\n",
       "    </tr>\n",
       "    <tr>\n",
       "      <th>3</th>\n",
       "      <td>Air cooler</td>\n",
       "      <td>65.0</td>\n",
       "      <td>80.0</td>\n",
       "      <td>4</td>\n",
       "      <td>79.024401</td>\n",
       "      <td>19</td>\n",
       "      <td>60.063832</td>\n",
       "    </tr>\n",
       "    <tr>\n",
       "      <th>4</th>\n",
       "      <td>Air purifier</td>\n",
       "      <td>25.0</td>\n",
       "      <td>30.0</td>\n",
       "      <td>3</td>\n",
       "      <td>27.478299</td>\n",
       "      <td>22</td>\n",
       "      <td>25.197709</td>\n",
       "    </tr>\n",
       "  </tbody>\n",
       "</table>\n",
       "</div>"
      ],
      "text/plain": [
       "      device_name  min_consumption  max_consumption  device_age  input_power  \\\n",
       "0            bulb            100.0            120.0           3   107.309403   \n",
       "1  LED TV 42 INCH             58.0             60.0           5    58.310312   \n",
       "2  3''belt sander           1000.0           1000.0           4  1000.000000   \n",
       "3      Air cooler             65.0             80.0           4    79.024401   \n",
       "4    Air purifier             25.0             30.0           3    27.478299   \n",
       "\n",
       "   working_hours  output_power  \n",
       "0             23     77.743099  \n",
       "1             10     44.435175  \n",
       "2             10    870.077334  \n",
       "3             19     60.063832  \n",
       "4             22     25.197709  "
      ]
     },
     "execution_count": 3,
     "metadata": {},
     "output_type": "execute_result"
    }
   ],
   "source": [
    "min_c = data['min_consumption'].values\n",
    "max_c = data['max_consumption'].values\n",
    "random_consumption = [rd.uniform(min_c[i], max_c[i]) for i in range(len(min_c))]\n",
    "working_hours = []\n",
    "for i in range(len(min_c)):\n",
    "    random_hours = rd.randint(0,24)\n",
    "    working_hours.append(random_hours)\n",
    "data['input_power'] = random_consumption\n",
    "data['working_hours'] = working_hours\n",
    "output_power = []\n",
    "for i in range(len(min_c)):\n",
    "    output_power.append(rd.uniform(random_consumption[i] * 0.70 , random_consumption[i]))\n",
    "    output_power[i] = output_power[i]\n",
    "data['output_power'] = output_power \n",
    "data.head()"
   ]
  },
  {
   "attachments": {},
   "cell_type": "markdown",
   "metadata": {},
   "source": [
    "## Calculating efficiency metrics\n",
    "\n",
    "This code cell calculates the `Enhanced_efficiency` and `efficiency` columns of the `data` DataFrame based on the `input_power`, `output_power`, and `min_consumption` columns.\n"
   ]
  },
  {
   "cell_type": "code",
   "execution_count": 4,
   "metadata": {},
   "outputs": [
    {
     "data": {
      "text/html": [
       "<div>\n",
       "<style scoped>\n",
       "    .dataframe tbody tr th:only-of-type {\n",
       "        vertical-align: middle;\n",
       "    }\n",
       "\n",
       "    .dataframe tbody tr th {\n",
       "        vertical-align: top;\n",
       "    }\n",
       "\n",
       "    .dataframe thead th {\n",
       "        text-align: right;\n",
       "    }\n",
       "</style>\n",
       "<table border=\"1\" class=\"dataframe\">\n",
       "  <thead>\n",
       "    <tr style=\"text-align: right;\">\n",
       "      <th></th>\n",
       "      <th>device_name</th>\n",
       "      <th>min_consumption</th>\n",
       "      <th>max_consumption</th>\n",
       "      <th>device_age</th>\n",
       "      <th>input_power</th>\n",
       "      <th>working_hours</th>\n",
       "      <th>output_power</th>\n",
       "      <th>Enhanced_efficiency</th>\n",
       "      <th>efficiency</th>\n",
       "    </tr>\n",
       "  </thead>\n",
       "  <tbody>\n",
       "    <tr>\n",
       "      <th>0</th>\n",
       "      <td>bulb</td>\n",
       "      <td>100.0</td>\n",
       "      <td>120.0</td>\n",
       "      <td>3</td>\n",
       "      <td>107.309403</td>\n",
       "      <td>23</td>\n",
       "      <td>77.743099</td>\n",
       "      <td>72.447611</td>\n",
       "      <td>77.743099</td>\n",
       "    </tr>\n",
       "    <tr>\n",
       "      <th>1</th>\n",
       "      <td>LED TV 42 INCH</td>\n",
       "      <td>58.0</td>\n",
       "      <td>60.0</td>\n",
       "      <td>5</td>\n",
       "      <td>58.310312</td>\n",
       "      <td>10</td>\n",
       "      <td>44.435175</td>\n",
       "      <td>76.204660</td>\n",
       "      <td>76.612371</td>\n",
       "    </tr>\n",
       "    <tr>\n",
       "      <th>2</th>\n",
       "      <td>3''belt sander</td>\n",
       "      <td>1000.0</td>\n",
       "      <td>1000.0</td>\n",
       "      <td>4</td>\n",
       "      <td>1000.000000</td>\n",
       "      <td>10</td>\n",
       "      <td>870.077334</td>\n",
       "      <td>87.007733</td>\n",
       "      <td>87.007733</td>\n",
       "    </tr>\n",
       "    <tr>\n",
       "      <th>3</th>\n",
       "      <td>Air cooler</td>\n",
       "      <td>65.0</td>\n",
       "      <td>80.0</td>\n",
       "      <td>4</td>\n",
       "      <td>79.024401</td>\n",
       "      <td>19</td>\n",
       "      <td>60.063832</td>\n",
       "      <td>76.006690</td>\n",
       "      <td>92.405895</td>\n",
       "    </tr>\n",
       "    <tr>\n",
       "      <th>4</th>\n",
       "      <td>Air purifier</td>\n",
       "      <td>25.0</td>\n",
       "      <td>30.0</td>\n",
       "      <td>3</td>\n",
       "      <td>27.478299</td>\n",
       "      <td>22</td>\n",
       "      <td>25.197709</td>\n",
       "      <td>91.700394</td>\n",
       "      <td>100.790835</td>\n",
       "    </tr>\n",
       "  </tbody>\n",
       "</table>\n",
       "</div>"
      ],
      "text/plain": [
       "      device_name  min_consumption  max_consumption  device_age  input_power  \\\n",
       "0            bulb            100.0            120.0           3   107.309403   \n",
       "1  LED TV 42 INCH             58.0             60.0           5    58.310312   \n",
       "2  3''belt sander           1000.0           1000.0           4  1000.000000   \n",
       "3      Air cooler             65.0             80.0           4    79.024401   \n",
       "4    Air purifier             25.0             30.0           3    27.478299   \n",
       "\n",
       "   working_hours  output_power  Enhanced_efficiency  efficiency  \n",
       "0             23     77.743099            72.447611   77.743099  \n",
       "1             10     44.435175            76.204660   76.612371  \n",
       "2             10    870.077334            87.007733   87.007733  \n",
       "3             19     60.063832            76.006690   92.405895  \n",
       "4             22     25.197709            91.700394  100.790835  "
      ]
     },
     "execution_count": 4,
     "metadata": {},
     "output_type": "execute_result"
    }
   ],
   "source": [
    "Enhanced_efficiency = []\n",
    "for i in range(len(min_c)):\n",
    "    Enhanced_efficiency.append(output_power[i]/random_consumption[i]*100)\n",
    "data['Enhanced_efficiency'] = Enhanced_efficiency\n",
    "efficiency = data['output_power']/data['min_consumption']*100\n",
    "data['efficiency'] = efficiency\n",
    "data.head()\n"
   ]
  },
  {
   "attachments": {},
   "cell_type": "markdown",
   "metadata": {},
   "source": [
    "## Handling values\n"
   ]
  },
  {
   "cell_type": "code",
   "execution_count": 5,
   "metadata": {},
   "outputs": [
    {
     "data": {
      "text/html": [
       "<div>\n",
       "<style scoped>\n",
       "    .dataframe tbody tr th:only-of-type {\n",
       "        vertical-align: middle;\n",
       "    }\n",
       "\n",
       "    .dataframe tbody tr th {\n",
       "        vertical-align: top;\n",
       "    }\n",
       "\n",
       "    .dataframe thead th {\n",
       "        text-align: right;\n",
       "    }\n",
       "</style>\n",
       "<table border=\"1\" class=\"dataframe\">\n",
       "  <thead>\n",
       "    <tr style=\"text-align: right;\">\n",
       "      <th></th>\n",
       "      <th>device_name</th>\n",
       "      <th>min_consumption</th>\n",
       "      <th>max_consumption</th>\n",
       "      <th>device_age</th>\n",
       "      <th>input_power</th>\n",
       "      <th>working_hours</th>\n",
       "      <th>output_power</th>\n",
       "      <th>Enhanced_efficiency</th>\n",
       "      <th>efficiency</th>\n",
       "    </tr>\n",
       "  </thead>\n",
       "  <tbody>\n",
       "    <tr>\n",
       "      <th>0</th>\n",
       "      <td>bulb</td>\n",
       "      <td>100.0</td>\n",
       "      <td>120.0</td>\n",
       "      <td>3</td>\n",
       "      <td>107.309403</td>\n",
       "      <td>23</td>\n",
       "      <td>77.743099</td>\n",
       "      <td>72.447611</td>\n",
       "      <td>77.743099</td>\n",
       "    </tr>\n",
       "    <tr>\n",
       "      <th>1</th>\n",
       "      <td>LED TV 42 INCH</td>\n",
       "      <td>58.0</td>\n",
       "      <td>60.0</td>\n",
       "      <td>5</td>\n",
       "      <td>58.310312</td>\n",
       "      <td>10</td>\n",
       "      <td>44.435175</td>\n",
       "      <td>76.204660</td>\n",
       "      <td>76.612371</td>\n",
       "    </tr>\n",
       "    <tr>\n",
       "      <th>2</th>\n",
       "      <td>3''belt sander</td>\n",
       "      <td>1000.0</td>\n",
       "      <td>1000.0</td>\n",
       "      <td>4</td>\n",
       "      <td>1000.000000</td>\n",
       "      <td>10</td>\n",
       "      <td>870.077334</td>\n",
       "      <td>87.007733</td>\n",
       "      <td>87.007733</td>\n",
       "    </tr>\n",
       "    <tr>\n",
       "      <th>3</th>\n",
       "      <td>Air cooler</td>\n",
       "      <td>65.0</td>\n",
       "      <td>80.0</td>\n",
       "      <td>4</td>\n",
       "      <td>79.024401</td>\n",
       "      <td>19</td>\n",
       "      <td>60.063832</td>\n",
       "      <td>76.006690</td>\n",
       "      <td>92.405895</td>\n",
       "    </tr>\n",
       "    <tr>\n",
       "      <th>4</th>\n",
       "      <td>Air purifier</td>\n",
       "      <td>25.0</td>\n",
       "      <td>30.0</td>\n",
       "      <td>3</td>\n",
       "      <td>27.478299</td>\n",
       "      <td>22</td>\n",
       "      <td>25.197709</td>\n",
       "      <td>91.700394</td>\n",
       "      <td>100.790835</td>\n",
       "    </tr>\n",
       "  </tbody>\n",
       "</table>\n",
       "</div>"
      ],
      "text/plain": [
       "      device_name  min_consumption  max_consumption  device_age  input_power  \\\n",
       "0            bulb            100.0            120.0           3   107.309403   \n",
       "1  LED TV 42 INCH             58.0             60.0           5    58.310312   \n",
       "2  3''belt sander           1000.0           1000.0           4  1000.000000   \n",
       "3      Air cooler             65.0             80.0           4    79.024401   \n",
       "4    Air purifier             25.0             30.0           3    27.478299   \n",
       "\n",
       "   working_hours  output_power  Enhanced_efficiency  efficiency  \n",
       "0             23     77.743099            72.447611   77.743099  \n",
       "1             10     44.435175            76.204660   76.612371  \n",
       "2             10    870.077334            87.007733   87.007733  \n",
       "3             19     60.063832            76.006690   92.405895  \n",
       "4             22     25.197709            91.700394  100.790835  "
      ]
     },
     "execution_count": 5,
     "metadata": {},
     "output_type": "execute_result"
    }
   ],
   "source": [
    "data = data.replace([np.inf, -np.inf], np.nan)\n",
    "data = data.dropna()\n",
    "data.head()"
   ]
  },
  {
   "attachments": {},
   "cell_type": "markdown",
   "metadata": {},
   "source": [
    "## Adjusting efficiency values\n"
   ]
  },
  {
   "cell_type": "code",
   "execution_count": 6,
   "metadata": {},
   "outputs": [
    {
     "data": {
      "text/html": [
       "<div>\n",
       "<style scoped>\n",
       "    .dataframe tbody tr th:only-of-type {\n",
       "        vertical-align: middle;\n",
       "    }\n",
       "\n",
       "    .dataframe tbody tr th {\n",
       "        vertical-align: top;\n",
       "    }\n",
       "\n",
       "    .dataframe thead th {\n",
       "        text-align: right;\n",
       "    }\n",
       "</style>\n",
       "<table border=\"1\" class=\"dataframe\">\n",
       "  <thead>\n",
       "    <tr style=\"text-align: right;\">\n",
       "      <th></th>\n",
       "      <th>device_name</th>\n",
       "      <th>min_consumption</th>\n",
       "      <th>max_consumption</th>\n",
       "      <th>device_age</th>\n",
       "      <th>input_power</th>\n",
       "      <th>working_hours</th>\n",
       "      <th>output_power</th>\n",
       "      <th>Enhanced_efficiency</th>\n",
       "      <th>efficiency</th>\n",
       "    </tr>\n",
       "  </thead>\n",
       "  <tbody>\n",
       "    <tr>\n",
       "      <th>0</th>\n",
       "      <td>bulb</td>\n",
       "      <td>100.0</td>\n",
       "      <td>120.0</td>\n",
       "      <td>3</td>\n",
       "      <td>107.309403</td>\n",
       "      <td>23</td>\n",
       "      <td>77.743099</td>\n",
       "      <td>72.447611</td>\n",
       "      <td>83.038586</td>\n",
       "    </tr>\n",
       "    <tr>\n",
       "      <th>1</th>\n",
       "      <td>LED TV 42 INCH</td>\n",
       "      <td>58.0</td>\n",
       "      <td>60.0</td>\n",
       "      <td>5</td>\n",
       "      <td>58.310312</td>\n",
       "      <td>10</td>\n",
       "      <td>44.435175</td>\n",
       "      <td>76.204660</td>\n",
       "      <td>77.020081</td>\n",
       "    </tr>\n",
       "    <tr>\n",
       "      <th>2</th>\n",
       "      <td>3''belt sander</td>\n",
       "      <td>1000.0</td>\n",
       "      <td>1000.0</td>\n",
       "      <td>4</td>\n",
       "      <td>1000.000000</td>\n",
       "      <td>10</td>\n",
       "      <td>870.077334</td>\n",
       "      <td>87.007733</td>\n",
       "      <td>87.007733</td>\n",
       "    </tr>\n",
       "    <tr>\n",
       "      <th>3</th>\n",
       "      <td>Air cooler</td>\n",
       "      <td>65.0</td>\n",
       "      <td>80.0</td>\n",
       "      <td>4</td>\n",
       "      <td>79.024401</td>\n",
       "      <td>19</td>\n",
       "      <td>60.063832</td>\n",
       "      <td>76.006690</td>\n",
       "      <td>108.805100</td>\n",
       "    </tr>\n",
       "    <tr>\n",
       "      <th>4</th>\n",
       "      <td>Air purifier</td>\n",
       "      <td>25.0</td>\n",
       "      <td>30.0</td>\n",
       "      <td>3</td>\n",
       "      <td>27.478299</td>\n",
       "      <td>22</td>\n",
       "      <td>25.197709</td>\n",
       "      <td>91.700394</td>\n",
       "      <td>109.881276</td>\n",
       "    </tr>\n",
       "  </tbody>\n",
       "</table>\n",
       "</div>"
      ],
      "text/plain": [
       "      device_name  min_consumption  max_consumption  device_age  input_power  \\\n",
       "0            bulb            100.0            120.0           3   107.309403   \n",
       "1  LED TV 42 INCH             58.0             60.0           5    58.310312   \n",
       "2  3''belt sander           1000.0           1000.0           4  1000.000000   \n",
       "3      Air cooler             65.0             80.0           4    79.024401   \n",
       "4    Air purifier             25.0             30.0           3    27.478299   \n",
       "\n",
       "   working_hours  output_power  Enhanced_efficiency  efficiency  \n",
       "0             23     77.743099            72.447611   83.038586  \n",
       "1             10     44.435175            76.204660   77.020081  \n",
       "2             10    870.077334            87.007733   87.007733  \n",
       "3             19     60.063832            76.006690  108.805100  \n",
       "4             22     25.197709            91.700394  109.881276  "
      ]
     },
     "execution_count": 6,
     "metadata": {},
     "output_type": "execute_result"
    }
   ],
   "source": [
    "List_efficiency = data['efficiency'].values\n",
    "List_enhan_efficiency = data['Enhanced_efficiency'].values\n",
    "\n",
    "for i in range(len(List_efficiency)):\n",
    "    # if enhance efficiency is greater than enhance efficiency then minus abs value for efficiency\n",
    "    if List_enhan_efficiency[i] > List_efficiency[i]:\n",
    "        List_efficiency[i] = List_efficiency[i] - abs(List_enhan_efficiency[i] - List_efficiency[i])\n",
    "    # if enhance efficiency is less than enhance efficiency then plus abs value for efficiency\n",
    "    elif List_enhan_efficiency[i] < List_efficiency[i]:\n",
    "        List_efficiency[i] = List_efficiency[i] + abs(List_enhan_efficiency[i] - List_efficiency[i])\n",
    "    # if enhance efficiency is equal to enhance efficiency then plus abs value for efficiency\n",
    "    else:\n",
    "        List_efficiency[i] = List_efficiency[i] + abs(List_enhan_efficiency[i] - List_efficiency[i])\n",
    "data['efficiency'] = List_efficiency\n",
    "data['efficiency'] = data['efficiency'].apply(lambda x: 200 if x > 200 else x)\n",
    "data['efficiency'] = data['efficiency'].apply(lambda x: 0 if x < 0 else x)\n",
    "data['Enhanced_efficiency'] = data['Enhanced_efficiency'].apply(lambda x: 200 if x > 200 else x)\n",
    "data['Enhanced_efficiency'] = data['Enhanced_efficiency'].apply(lambda x: 0 if x < 0 else x)\n",
    "data.head()\n"
   ]
  },
  {
   "attachments": {},
   "cell_type": "markdown",
   "metadata": {},
   "source": [
    "## Training a GradientBoostingRegressor model\n"
   ]
  },
  {
   "cell_type": "code",
   "execution_count": 7,
   "metadata": {},
   "outputs": [
    {
     "data": {
      "text/plain": [
       "0.5445088534975847"
      ]
     },
     "execution_count": 7,
     "metadata": {},
     "output_type": "execute_result"
    }
   ],
   "source": [
    "X = data[['min_consumption', 'max_consumption', 'input_power']]\n",
    "y = data['efficiency']\n",
    "X_train, X_test, y_train, y_test = train_test_split(X, y, test_size=0.2, random_state=0)\n",
    "Normal = GradientBoostingRegressor(random_state=0)\n",
    "Normal.fit(X_train, y_train)\n",
    "Normal.score(X_test, y_test)\n"
   ]
  },
  {
   "cell_type": "code",
   "execution_count": 8,
   "metadata": {},
   "outputs": [],
   "source": [
    "#feature to predict enhanced efficiency with K-centroid\n",
    "X = data[['min_consumption', 'max_consumption', 'input_power']]\n",
    "y = data['Enhanced_efficiency']\n"
   ]
  },
  {
   "attachments": {},
   "cell_type": "markdown",
   "metadata": {},
   "source": [
    "## Hariarchical clustering\n"
   ]
  },
  {
   "cell_type": "code",
   "execution_count": 9,
   "metadata": {},
   "outputs": [
    {
     "name": "stdout",
     "output_type": "stream",
     "text": [
      "[1 0 0 0 0 0 0 0 0 0 0 0 0 1 0 0 0 0 0 0 0 0 0 0 0 0 0 0 0 0 0 0 0 0 0 0 0\n",
      " 1 0 0 0 0 1 0 0 0 0 0 0 0 0 0 1 0 0 0 0 0 0 0 0 0 0 0 0 0 0 0 0 0 0 0 0 0\n",
      " 0 0 1 0 0 1 1 0 0 0 0 0 0 2 0 0 0 0 0 0 2 1 0 0 0 0 0 0 0 0 0 0 0 0 0 0 0\n",
      " 0 0 0 0 0 0 0 0 1 0 0 0 0 0 0 0 1 0 0 0 0 0 0 0 0 0 0 0 0 0 0 0 0 0 0 0 0\n",
      " 0 0 0 0 0 0 0 1 0 0 0 0 0 0 0 0 0 0 1 0 0 2 0 0 0 0 0 0 0 0 0 1 0 0 0 0 0\n",
      " 0 0 0 0 0 0 0 0 0 0 1 1 0 1 0 0 0 0 0 0 1 0 0 0 1 0 0 0 0 0 0 0 0 0 0 0 0\n",
      " 0 0 0 0 0 2 0 0 2 0 0 0 0 0 0 0 0]\n"
     ]
    },
    {
     "name": "stderr",
     "output_type": "stream",
     "text": [
      "/home/xer0bit/.local/lib/python3.10/site-packages/sklearn/cluster/_agglomerative.py:983: FutureWarning: Attribute `affinity` was deprecated in version 1.2 and will be removed in 1.4. Use `metric` instead\n",
      "  warnings.warn(\n"
     ]
    }
   ],
   "source": [
    "hc = AgglomerativeClustering(n_clusters=3, affinity='euclidean', linkage='ward')\n",
    "y_hc = hc.fit_predict(X_train)\n",
    "print(y_hc)\n"
   ]
  },
  {
   "cell_type": "code",
   "execution_count": 10,
   "metadata": {},
   "outputs": [],
   "source": [
    "def find_centroid(cluster):\n",
    "    \"\"\"\n",
    "    Calculates the centroid of a cluster.\n",
    "\n",
    "    Args:\n",
    "    \n",
    "        cluster: A list of data points.\n",
    "\n",
    "    Returns:\n",
    "        The centroid of the cluster.\n",
    "    \"\"\"\n",
    "    centroid = sum(cluster) / len(cluster)\n",
    "    return centroid"
   ]
  },
  {
   "attachments": {},
   "cell_type": "markdown",
   "metadata": {},
   "source": [
    "## k-centroid hierarchical clustering\n"
   ]
  },
  {
   "cell_type": "code",
   "execution_count": 11,
   "metadata": {},
   "outputs": [],
   "source": [
    "def hierarchical_clustering(dataset, k):\n",
    "    \"\"\"\n",
    "    Performs hierarchical clustering on the given dataset using k-centroid link.\n",
    "\n",
    "    Args:\n",
    "        dataset: A list of data points.\n",
    "        k: The number of neighbors of a centroid.\n",
    "\n",
    "    Returns:\n",
    "        A list of clusters.\n",
    "    \"\"\"\n",
    "    \n",
    "    # Initialize the clusters.\n",
    "    clusters = [[x] for x in dataset]\n",
    "    \n",
    "    # Iterate over all pairs of clusters.\n",
    "    for _ in range(len(dataset) - 1):\n",
    "        min_distance = float('inf')\n",
    "        merge_clusters = ()\n",
    "        \n",
    "        for i in range(len(clusters)):\n",
    "            for j in range(i + 1, len(clusters)):\n",
    "                # Calculate the distance between the two clusters.\n",
    "                dist_1 = []\n",
    "                dist_2 = []\n",
    "                \n",
    "                # Find centroids for clusters Ci and Cj.\n",
    "                centroid_i = find_centroid(clusters[i])\n",
    "                centroid_j = find_centroid(clusters[j])\n",
    "                \n",
    "                # Calculate distances from objects in Ci to centroid_i.\n",
    "                for obj in clusters[i]:\n",
    "                    dist_1.append(np.linalg.norm(obj - centroid_i))\n",
    "                \n",
    "                # Calculate distances from objects in Cj to centroid_j.\n",
    "                for obj in clusters[j]:\n",
    "                    dist_2.append(np.linalg.norm(obj - centroid_j))\n",
    "                \n",
    "                # Select the k nearest neighbors from each cluster.\n",
    "                dist_1 = sorted(dist_1)[:k]\n",
    "                dist_2 = sorted(dist_2)[:k]\n",
    "                \n",
    "                neighbors = []\n",
    "                for obj1 in dist_1:\n",
    "                    for obj2 in dist_2:\n",
    "                        #obj1 and obj2 are the distances from Ci to Cj and Cj to Ci respectively calculated above.\n",
    "                        neighbors.append(obj1 + obj2)\n",
    "\n",
    "\n",
    "                # Calculate the average  = total distance / min(k, len(Ci) * len(Cj)).\n",
    "                average_distance = sum(neighbors) / min(k, len(clusters[i]) * len(clusters[j]))\n",
    "                if average_distance < min_distance:\n",
    "                    min_distance = average_distance\n",
    "                    # Store the closest pair of clusters.\n",
    "                    merge_clusters = (i, j)\n",
    "        \n",
    "        # Merge the two closest clusters.\n",
    "        merged_cluster = clusters[merge_clusters[0]] + clusters[merge_clusters[1]]\n",
    "        clusters = [c for idx, c in enumerate(clusters) if idx not in merge_clusters]\n",
    "        clusters.append(merged_cluster)\n",
    "    \n",
    "    # Return the list of clusters.\n",
    "    return clusters\n"
   ]
  },
  {
   "cell_type": "code",
   "execution_count": 14,
   "metadata": {},
   "outputs": [],
   "source": [
    "# Perform clustering on the training data\n",
    "clusters = hierarchical_clustering(X_train.values, 3)"
   ]
  },
  {
   "cell_type": "code",
   "execution_count": 14,
   "metadata": {},
   "outputs": [
    {
     "data": {
      "image/png": "[encoded data removed]",
      "text/plain": [
       "<Figure size 432x288 with 1 Axes>"
      ]
     },
     "metadata": {
      "needs_background": "light"
     },
     "output_type": "display_data"
    }
   ],
   "source": [
    "sns.scatterplot(x='min_consumption', y='max_consumption', hue=y_hc, data=X_train, palette='Set1', s=100)\n",
    "plt.show()"
   ]
  },
  {
   "cell_type": "code",
   "execution_count": 15,
   "metadata": {},
   "outputs": [
    {
     "data": {
      "image/png": "[encoded data removed]",
      "text/plain": [
       "<Figure size 1800x720 with 1 Axes>"
      ]
     },
     "metadata": {
      "needs_background": "light"
     },
     "output_type": "display_data"
    }
   ],
   "source": [
    "Z = linkage(X_train, 'ward')\n",
    "fig = plt.figure(figsize=(25, 10))\n",
    "dn = dendrogram(Z)\n",
    "plt.show()"
   ]
  },
  {
   "cell_type": "code",
   "execution_count": 57,
   "metadata": {},
   "outputs": [],
   "source": []
  },
  {
   "cell_type": "code",
   "execution_count": 59,
   "metadata": {},
   "outputs": [
    {
     "name": "stdout",
     "output_type": "stream",
     "text": [
      "Enhanced efficiency:  None\n"
     ]
    }
   ],
   "source": []
  },
  {
   "attachments": {},
   "cell_type": "markdown",
   "metadata": {},
   "source": [
    "## Gradient Boosting Regressor Model with Enhanced Efficiency\n"
   ]
  },
  {
   "cell_type": "code",
   "execution_count": 64,
   "metadata": {},
   "outputs": [],
   "source": [
    "cluster_labels = []\n",
    "for idx, cluster in enumerate(clusters):\n",
    "    for point in cluster:\n",
    "        cluster_labels.append(idx)\n",
    "\n",
    "regression_models = []\n",
    "for cluster in clusters:\n",
    "    cluster_indices = [idx for idx, point in enumerate(X_train.values) if np.array_equal(point, cluster)]\n",
    "    \n",
    "    if len(cluster_indices) > 0:\n",
    "        X_train_cluster = X_train.iloc[cluster_indices, :]\n",
    "        y_train_cluster = y_train.iloc[cluster_indices]\n",
    "        \n",
    "        regression_model = GradientBoostingRegressor(random_state=0)\n",
    "        regression_model.fit(X_train_cluster, y_train_cluster)\n",
    "        regression_models.append(regression_model)\n"
   ]
  },
  {
   "cell_type": "code",
   "execution_count": 65,
   "metadata": {},
   "outputs": [],
   "source": [
    "def predict_enhanced_efficiency(data_point):\n",
    "    cluster_index = None\n",
    "    for idx, cluster in enumerate(clusters):\n",
    "        if np.array_equal(data_point, cluster):\n",
    "            cluster_index = idx\n",
    "            break\n",
    "    if cluster_index is None:\n",
    "        return None  # Data point not found in any cluster\n",
    "\n",
    "    model = regression_models[cluster_index]\n",
    "    return model.predict([data_point])"
   ]
  },
  {
   "cell_type": "code",
   "execution_count": 69,
   "metadata": {},
   "outputs": [
    {
     "name": "stdout",
     "output_type": "stream",
     "text": [
      "K_centroid efficiency score:  -0.5198801467364509\n"
     ]
    }
   ],
   "source": [
    "X_train, X_test, y_train, y_test = train_test_split(X, y, test_size=0.2, random_state=0)\n",
    "K_centroid = GradientBoostingRegressor(random_state=0)\n",
    "K_centroid.fit(X_train, y_train)\n",
    "K_centroid.score(X_test, y_test)\n",
    "print(\"K_centroid efficiency score: \", K_centroid.score(X_test, y_test))"
   ]
  },
  {
   "attachments": {},
   "cell_type": "markdown",
   "metadata": {},
   "source": [
    "## Test input\n"
   ]
  },
  {
   "cell_type": "code",
   "execution_count": 71,
   "metadata": {},
   "outputs": [
    {
     "name": "stdout",
     "output_type": "stream",
     "text": [
      "Normal efficiency:  [130.61874525]\n",
      "Enhanced efficiency:  [79.81575917]\n"
     ]
    },
    {
     "name": "stderr",
     "output_type": "stream",
     "text": [
      "/home/xer0bit/.local/lib/python3.10/site-packages/sklearn/base.py:439: UserWarning: X does not have valid feature names, but GradientBoostingRegressor was fitted with feature names\n",
      "  warnings.warn(\n",
      "/home/xer0bit/.local/lib/python3.10/site-packages/sklearn/base.py:439: UserWarning: X does not have valid feature names, but GradientBoostingRegressor was fitted with feature names\n",
      "  warnings.warn(\n"
     ]
    }
   ],
   "source": [
    "test_input = [[300, 600, 400]]\n",
    "test_output = Normal.predict(test_input)\n",
    "print(\"Normal efficiency: \", test_output)\n",
    "test_output = K_centroid.predict(test_input)\n",
    "print(\"Enhanced efficiency: \", test_output)\n"
   ]
  },
  {
   "attachments": {},
   "cell_type": "markdown",
   "metadata": {},
   "source": [
    "## Saving models\n"
   ]
  },
  {
   "cell_type": "code",
   "execution_count": null,
   "metadata": {},
   "outputs": [],
   "source": [
    "import pickle\n",
    "try:\n",
    "    os.mkdir('pretrained_model')\n",
    "except:\n",
    "    pass\n",
    "pickle.dump(Normal, open('pretrained_model/Normal.pkl', 'wb'))\n",
    "pickle.dump(K_centroid, open('pretrained_model/K_centroid.pkl', 'wb'))\n",
    "print(\"Model saved successfully\")"
   ]
  }
 ],
 "metadata": {
  "kernelspec": {
   "display_name": "Python 3",
   "language": "python",
   "name": "python3"
  },
  "language_info": {
   "codemirror_mode": {
    "name": "ipython",
    "version": 3
   },
   "file_extension": ".py",
   "mimetype": "text/x-python",
   "name": "python",
   "nbconvert_exporter": "python",
   "pygments_lexer": "ipython3",
   "version": "3.10.6"
  },
  "orig_nbformat": 4
 },
 "nbformat": 4,
 "nbformat_minor": 2
}
